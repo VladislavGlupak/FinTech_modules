{
 "cells": [
  {
   "cell_type": "code",
   "execution_count": 19,
   "metadata": {},
   "outputs": [],
   "source": [
    "# Imports\n",
    "import os\n",
    "from dotenv import load_dotenv\n",
    "load_dotenv()\n",
    "from bip44 import Wallet\n",
    "from eth_account import Account\n",
    "from web3 import middleware\n",
    "from web3.gas_strategies.time_based import medium_gas_price_strategy\n",
    "from web3 import Web3\n",
    "w3 = Web3(Web3.HTTPProvider('HTTP://127.0.0.1:7545'))"
   ]
  },
  {
   "cell_type": "code",
   "execution_count": 20,
   "metadata": {},
   "outputs": [],
   "source": [
    "amount = .0001\n",
    "value = w3.toWei(amount, \"ether\")"
   ]
  },
  {
   "cell_type": "code",
   "execution_count": 21,
   "metadata": {},
   "outputs": [],
   "source": [
    "receiver = \"0x02571dbf68dFdfe4d2CC7DAEEF0211669Ad13Fd6\""
   ]
  },
  {
   "cell_type": "code",
   "execution_count": 22,
   "metadata": {},
   "outputs": [],
   "source": [
    "# a fast_gas_price_strategy, which aims to have a transaction mined within one minute\n",
    "# a slow_gas_price_strategy, which aims to have a transaction mined within one hour\n",
    "# a glacial_gas_price_strategy, which aims to have a transaction mined within one day\n",
    "\n",
    "# Set the gas price strategy\n",
    "w3.eth.setGasPriceStrategy(medium_gas_price_strategy)"
   ]
  },
  {
   "cell_type": "code",
   "execution_count": 23,
   "metadata": {},
   "outputs": [
    {
     "data": {
      "text/plain": [
       "'0xa9Edba88f95BEd30c6a8360849660098f64Ca4ea'"
      ]
     },
     "execution_count": 23,
     "metadata": {},
     "output_type": "execute_result"
    }
   ],
   "source": [
    "mnemonic = os.getenv(\"MNEMONIC\")\n",
    "wallet = Wallet(mnemonic)\n",
    "private, public = wallet.derive_account(\"eth\")\n",
    "account = Account.privateKeyToAccount(private)\n",
    "account_address = account.address\n",
    "account_address"
   ]
  },
  {
   "cell_type": "code",
   "execution_count": 24,
   "metadata": {},
   "outputs": [],
   "source": [
    "# Calculate the gas estimate\n",
    "gasEstimate = w3.eth.estimateGas(\n",
    "    {\"to\": receiver,\n",
    "    \"from\": account_address,\n",
    "    \"value\": value\n",
    "    }\n",
    ")"
   ]
  },
  {
   "cell_type": "code",
   "execution_count": 25,
   "metadata": {},
   "outputs": [
    {
     "data": {
      "text/plain": [
       "True"
      ]
     },
     "execution_count": 25,
     "metadata": {},
     "output_type": "execute_result"
    }
   ],
   "source": [
    "w3.isConnected()"
   ]
  },
  {
   "cell_type": "code",
   "execution_count": 26,
   "metadata": {},
   "outputs": [],
   "source": [
    "# Create the transaction object\n",
    "raw_tx = {\n",
    "    \"to\": receiver,\n",
    "    \"from\": account_address,\n",
    "    \"value\": value,\n",
    "    \"gas\": gasEstimate,\n",
    "    \"gasPrice\": 0,\n",
    "    \"nonce\": w3.eth.getTransactionCount(account.address)\n",
    "}"
   ]
  },
  {
   "cell_type": "code",
   "execution_count": 27,
   "metadata": {},
   "outputs": [
    {
     "data": {
      "text/plain": [
       "HexBytes('0x9ec42346ab5f6a10cd42465de80cf0463373075c349f0d3674113f8ccd9fa88b')"
      ]
     },
     "execution_count": 27,
     "metadata": {},
     "output_type": "execute_result"
    }
   ],
   "source": [
    "# Create a signed transaction by passing the transaction object\n",
    "# into the signTransaction function\n",
    "signed_tx = account.signTransaction(raw_tx)\n",
    "\n",
    "# Route the signed transaction to the Ethereum blockchain\n",
    "w3.eth.sendRawTransaction(signed_tx.rawTransaction)"
   ]
  }
 ],
 "metadata": {
  "interpreter": {
   "hash": "3b50b6d19605fb9da84bb2165a362bf43baf6ee1f4425bd5523098d3339f6af4"
  },
  "kernelspec": {
   "display_name": "Python 3.7.10 ('dev')",
   "language": "python",
   "name": "python3"
  },
  "language_info": {
   "codemirror_mode": {
    "name": "ipython",
    "version": 3
   },
   "file_extension": ".py",
   "mimetype": "text/x-python",
   "name": "python",
   "nbconvert_exporter": "python",
   "pygments_lexer": "ipython3",
   "version": "3.7.10"
  },
  "orig_nbformat": 4
 },
 "nbformat": 4,
 "nbformat_minor": 2
}
