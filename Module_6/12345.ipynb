{
 "cells": [
  {
   "cell_type": "code",
   "execution_count": 92,
   "id": "63e87f4f-e96c-4fa6-80f3-eb46293a2694",
   "metadata": {},
   "outputs": [
    {
     "data": {
      "text/plain": [
       "200"
      ]
     },
     "execution_count": 92,
     "metadata": {},
     "output_type": "execute_result"
    }
   ],
   "source": [
    "import pandas as pd\n",
    "import hvplot.pandas\n",
    "import requests\n",
    "import json\n",
    "\n",
    "city = 'santa monica'\n",
    "desired_price = 6000000\n",
    "\n",
    "url = 'https://zillow-com1.p.rapidapi.com/propertyExtendedSearch'\n",
    "query = {f'location': {city}, 'home_type': 'Houses'}\n",
    "headers =  {\n",
    "'x-rapidapi-host': 'zillow-com1.p.rapidapi.com',\n",
    "'x-rapidapi-key': 'c039c94e44msh15c6a851d5e7e68p1ce297jsn3a5904ceb62e'# e\n",
    "}\n",
    "response = requests.request('GET', url, headers=headers, params=query)\n",
    "\n",
    "int(response.status_code)\n",
    "\n",
    "#response = response.json()\n",
    "\n",
    "\n",
    "\n",
    "#print(json.dumps(response, indent=2, sort_keys=True))"
   ]
  },
  {
   "cell_type": "code",
   "execution_count": 68,
   "id": "f91b1bfe-20a5-4f3f-97db-6e2e51cf8e0a",
   "metadata": {},
   "outputs": [
    {
     "data": {
      "text/html": [
       "<div>\n",
       "<style scoped>\n",
       "    .dataframe tbody tr th:only-of-type {\n",
       "        vertical-align: middle;\n",
       "    }\n",
       "\n",
       "    .dataframe tbody tr th {\n",
       "        vertical-align: top;\n",
       "    }\n",
       "\n",
       "    .dataframe thead th {\n",
       "        text-align: right;\n",
       "    }\n",
       "</style>\n",
       "<table border=\"1\" class=\"dataframe\">\n",
       "  <thead>\n",
       "    <tr style=\"text-align: right;\">\n",
       "      <th></th>\n",
       "      <th>lon</th>\n",
       "      <th>lat</th>\n",
       "      <th>address</th>\n",
       "      <th>price</th>\n",
       "    </tr>\n",
       "  </thead>\n",
       "  <tbody>\n",
       "    <tr>\n",
       "      <th>0</th>\n",
       "      <td>-118.495094</td>\n",
       "      <td>34.035720</td>\n",
       "      <td>547 16th St, Santa Monica, CA 90402</td>\n",
       "      <td>6450000</td>\n",
       "    </tr>\n",
       "    <tr>\n",
       "      <th>0</th>\n",
       "      <td>-118.477460</td>\n",
       "      <td>34.039566</td>\n",
       "      <td>1045 Harvard St, Santa Monica, CA 90403</td>\n",
       "      <td>5995000</td>\n",
       "    </tr>\n",
       "    <tr>\n",
       "      <th>0</th>\n",
       "      <td>-118.491860</td>\n",
       "      <td>34.007572</td>\n",
       "      <td>7 Vicente Ter, Santa Monica, CA 90401</td>\n",
       "      <td>5500000</td>\n",
       "    </tr>\n",
       "    <tr>\n",
       "      <th>0</th>\n",
       "      <td>-118.491450</td>\n",
       "      <td>34.007656</td>\n",
       "      <td>7-7 Vicente Ter, Santa Monica, CA 90401</td>\n",
       "      <td>5500000</td>\n",
       "    </tr>\n",
       "    <tr>\n",
       "      <th>0</th>\n",
       "      <td>-118.506810</td>\n",
       "      <td>34.031810</td>\n",
       "      <td>713 Georgina Ave, Santa Monica, CA 90402</td>\n",
       "      <td>5799000</td>\n",
       "    </tr>\n",
       "  </tbody>\n",
       "</table>\n",
       "</div>"
      ],
      "text/plain": [
       "          lon        lat                                   address    price\n",
       "0 -118.495094  34.035720       547 16th St, Santa Monica, CA 90402  6450000\n",
       "0 -118.477460  34.039566   1045 Harvard St, Santa Monica, CA 90403  5995000\n",
       "0 -118.491860  34.007572     7 Vicente Ter, Santa Monica, CA 90401  5500000\n",
       "0 -118.491450  34.007656   7-7 Vicente Ter, Santa Monica, CA 90401  5500000\n",
       "0 -118.506810  34.031810  713 Georgina Ave, Santa Monica, CA 90402  5799000"
      ]
     },
     "execution_count": 68,
     "metadata": {},
     "output_type": "execute_result"
    }
   ],
   "source": [
    "df = pd.DataFrame()\n",
    "count = 0\n",
    "\n",
    "for address in response[\"props\"]:\n",
    "    big_mac_index_data = {\n",
    "    \"lon\": [response[\"props\"][count]['longitude']],\n",
    "    \"lat\": [response[\"props\"][count]['latitude']],\n",
    "    \"address\": [response[\"props\"][count]['address']],\n",
    "    \"price\": [response[\"props\"][count]['price']],\n",
    "    }\n",
    "    \n",
    "    df = df.append(pd.DataFrame.from_dict(big_mac_index_data))\n",
    "    \n",
    "    if count <= len(response[\"props\"]):\n",
    "        count = count+1       \n",
    "\n",
    "df_filtred_by_price = df[ (desired_price-500000 <= df['price']) & (df['price'] <= desired_price+500000)] # for example, desired price 6 000 000, we can show range\n",
    "df_filtred_by_price"
   ]
  },
  {
   "cell_type": "code",
   "execution_count": 75,
   "id": "45c60967-2b68-4425-a23a-2450455cfc92",
   "metadata": {},
   "outputs": [
    {
     "data": {},
     "metadata": {},
     "output_type": "display_data"
    },
    {
     "data": {
      "application/vnd.holoviews_exec.v0+json": "",
      "text/html": [
       "<div id='3397'>\n",
       "\n",
       "\n",
       "\n",
       "\n",
       "\n",
       "  <div class=\"bk-root\" id=\"6846062b-7b53-4d52-9803-d7882d272735\" data-root-id=\"3397\"></div>\n",
       "</div>\n",
       "<script type=\"application/javascript\">(function(root) {\n",
       "  function embed_document(root) {\n",
       "    var docs_json = {\"43644d68-706f-497c-a47b-9023967af4f5\":{\"defs\":[{\"extends\":null,\"module\":null,\"name\":\"ReactiveHTML1\",\"overrides\":[],\"properties\":[]},{\"extends\":null,\"module\":null,\"name\":\"FlexBox1\",\"overrides\":[],\"properties\":[{\"default\":\"flex-start\",\"kind\":null,\"name\":\"align_content\"},{\"default\":\"flex-start\",\"kind\":null,\"name\":\"align_items\"},{\"default\":\"row\",\"kind\":null,\"name\":\"flex_direction\"},{\"default\":\"wrap\",\"kind\":null,\"name\":\"flex_wrap\"},{\"default\":\"flex-start\",\"kind\":null,\"name\":\"justify_content\"}]},{\"extends\":null,\"module\":null,\"name\":\"TemplateActions1\",\"overrides\":[],\"properties\":[{\"default\":0,\"kind\":null,\"name\":\"open_modal\"},{\"default\":0,\"kind\":null,\"name\":\"close_modal\"}]},{\"extends\":null,\"module\":null,\"name\":\"MaterialTemplateActions1\",\"overrides\":[],\"properties\":[{\"default\":0,\"kind\":null,\"name\":\"open_modal\"},{\"default\":0,\"kind\":null,\"name\":\"close_modal\"}]}],\"roots\":{\"references\":[{\"attributes\":{},\"id\":\"3415\",\"type\":\"LinearScale\"},{\"attributes\":{\"coordinates\":null,\"group\":null,\"text\":\"Bla bla bla\",\"text_color\":\"black\",\"text_font_size\":\"12pt\"},\"id\":\"3411\",\"type\":\"Title\"},{\"attributes\":{\"axis\":{\"id\":\"3419\"},\"coordinates\":null,\"grid_line_color\":null,\"group\":null,\"ticker\":null},\"id\":\"3422\",\"type\":\"Grid\"},{\"attributes\":{\"dimension\":\"lon\"},\"id\":\"3442\",\"type\":\"MercatorTicker\"},{\"attributes\":{\"end\":4034545.570690175,\"min_interval\":5,\"reset_end\":4034545.570690175,\"reset_start\":4029389.246675328,\"start\":4029389.246675328,\"tags\":[[[\"lat\",\"lat\",null]]]},\"id\":\"3404\",\"type\":\"Range1d\"},{\"attributes\":{\"dimension\":\"lat\"},\"id\":\"3444\",\"type\":\"MercatorTicker\"},{\"attributes\":{\"high\":6450000,\"low\":5500000,\"palette\":[\"#b3fef5\",\"#b0fef5\",\"#adfdf5\",\"#a9fcf5\",\"#a6fbf6\",\"#a3faf6\",\"#a0faf6\",\"#9df9f6\",\"#9af8f6\",\"#97f7f6\",\"#93f7f6\",\"#90f6f6\",\"#8df5f6\",\"#8af4f7\",\"#87f3f7\",\"#83f2f7\",\"#80f2f7\",\"#7df1f7\",\"#79f0f7\",\"#76eff7\",\"#73eef7\",\"#6fedf8\",\"#6cecf8\",\"#68ecf8\",\"#65ebf8\",\"#61eaf8\",\"#5ee9f8\",\"#5ae8f8\",\"#57e7f8\",\"#53e6f8\",\"#50e5f9\",\"#4ce4f9\",\"#49e3f9\",\"#45e2f9\",\"#42e1f9\",\"#3ee0f9\",\"#3bdff9\",\"#38def9\",\"#35ddf9\",\"#32dcf9\",\"#30dbfa\",\"#2ed9fa\",\"#2dd8fa\",\"#2cd7fa\",\"#2bd6fa\",\"#2bd5fa\",\"#2ad3fa\",\"#2ad2fa\",\"#29d1fa\",\"#29d0fb\",\"#29cffb\",\"#28cdfb\",\"#28ccfb\",\"#28cbfb\",\"#28cafb\",\"#28c8fb\",\"#28c7fb\",\"#29c6fb\",\"#29c5fb\",\"#29c4fb\",\"#29c2fb\",\"#2ac1fb\",\"#2ac0fb\",\"#2bbffb\",\"#2bbdfc\",\"#2cbcfc\",\"#2dbbfc\",\"#2db9fc\",\"#2eb8fc\",\"#2fb7fc\",\"#2fb6fc\",\"#30b4fc\",\"#31b3fc\",\"#32b2fc\",\"#32b0fc\",\"#33affc\",\"#33aefc\",\"#34adfc\",\"#34abfc\",\"#34aafc\",\"#35a9fc\",\"#35a8fc\",\"#35a6fc\",\"#35a5fc\",\"#35a4fc\",\"#35a3fc\",\"#35a1fc\",\"#35a0fc\",\"#359ffc\",\"#359dfc\",\"#359cfc\",\"#359bfc\",\"#349afd\",\"#3498fd\",\"#3497fd\",\"#3396fd\",\"#3395fd\",\"#3293fd\",\"#3292fd\",\"#3191fd\",\"#3090fd\",\"#308ffd\",\"#2f8dfd\",\"#2f8cfd\",\"#2e8bfd\",\"#2e8afd\",\"#2d88fd\",\"#2d87fd\",\"#2c86fd\",\"#2c84fd\",\"#2c83fd\",\"#2c82fd\",\"#2b81fd\",\"#2b7ffd\",\"#2b7efd\",\"#2b7dfd\",\"#2b7bfd\",\"#2b7afd\",\"#2b79fd\",\"#2b77fd\",\"#2b76fd\",\"#2b75fd\",\"#2b73fd\",\"#2c72fd\",\"#2c71fd\",\"#2c6ffd\",\"#2c6efd\",\"#2d6cfd\",\"#2d6bfd\",\"#2d6afc\",\"#2e68fc\",\"#2e67fc\",\"#2e65fc\",\"#2e64fc\",\"#2f62fc\",\"#2f61fc\",\"#2f5ffc\",\"#2f5efc\",\"#2f5dfc\",\"#2f5bfc\",\"#2f5afc\",\"#2f58fb\",\"#2f57fb\",\"#2f55fb\",\"#2f53fb\",\"#2f52fb\",\"#2f50fb\",\"#2f4ffb\",\"#2f4dfb\",\"#2e4cfb\",\"#2e4afb\",\"#2e48fb\",\"#2e47fa\",\"#2d45fa\",\"#2d43fa\",\"#2d42fa\",\"#2d40fa\",\"#2c3efa\",\"#2c3dfa\",\"#2b3bf9\",\"#2b39f9\",\"#2a37f9\",\"#2a36f8\",\"#2934f8\",\"#2832f7\",\"#2831f7\",\"#272ff6\",\"#262ef5\",\"#252cf5\",\"#252af4\",\"#2429f3\",\"#2327f2\",\"#2226f1\",\"#2124f0\",\"#2023ef\",\"#1f22ee\",\"#1e20ed\",\"#1d1feb\",\"#1c1eea\",\"#1b1ce9\",\"#1a1be7\",\"#181ae6\",\"#1719e5\",\"#1618e3\",\"#1417e1\",\"#1316e0\",\"#1215de\",\"#1014dc\",\"#0f13db\",\"#0e12d9\",\"#0d11d7\",\"#0c10d5\",\"#0b0fd3\",\"#0a0ed1\",\"#090dd0\",\"#080dce\",\"#080ccc\",\"#070bca\",\"#070ac8\",\"#0709c6\",\"#0708c4\",\"#0707c2\",\"#0707bf\",\"#0806bd\",\"#0806bb\",\"#0905b9\",\"#0904b7\",\"#0a04b5\",\"#0a04b2\",\"#0b03b0\",\"#0c03ae\",\"#0d02ab\",\"#0e02a9\",\"#0e02a7\",\"#0f02a4\",\"#0f01a2\",\"#1001a0\",\"#10019d\",\"#10019b\",\"#100199\",\"#100197\",\"#100194\",\"#0f0192\",\"#0f0190\",\"#0f018e\",\"#0e018b\",\"#0e0189\",\"#0d0187\",\"#0d0185\",\"#0c0183\",\"#0b0181\",\"#0b017e\",\"#0a017c\",\"#09017a\",\"#090178\",\"#080276\",\"#070274\",\"#060272\",\"#060270\",\"#05026e\",\"#04026c\",\"#030269\",\"#030267\",\"#020265\",\"#010263\",\"#010261\",\"#00025f\",\"#00025d\",\"#00025b\",\"#000259\",\"#000257\",\"#000255\",\"#000154\",\"#000152\",\"#000150\",\"#00004e\"]},\"id\":\"3473\",\"type\":\"LinearColorMapper\"},{\"attributes\":{},\"id\":\"3492\",\"type\":\"UnionRenderers\"},{\"attributes\":{\"margin\":[5,5,5,5],\"name\":\"HSpacer07872\",\"sizing_mode\":\"stretch_width\"},\"id\":\"3398\",\"type\":\"Spacer\"},{\"attributes\":{\"axis_label\":\"y\",\"coordinates\":null,\"formatter\":{\"id\":\"3445\"},\"group\":null,\"major_label_policy\":{\"id\":\"3455\"},\"ticker\":{\"id\":\"3444\"}},\"id\":\"3423\",\"type\":\"LinearAxis\"},{\"attributes\":{},\"id\":\"3448\",\"type\":\"AllLabels\"},{\"attributes\":{\"coordinates\":null,\"data_source\":{\"id\":\"3474\"},\"glyph\":{\"id\":\"3477\"},\"group\":null,\"hover_glyph\":{\"id\":\"3480\"},\"muted_glyph\":{\"id\":\"3481\"},\"nonselection_glyph\":{\"id\":\"3478\"},\"selection_glyph\":{\"id\":\"3479\"},\"view\":{\"id\":\"3483\"}},\"id\":\"3482\",\"type\":\"GlyphRenderer\"},{\"attributes\":{\"data\":{\"color\":[6450000,5995000,5500000,5500000,5799000],\"lat\":{\"__ndarray__\":\"7Q3irR/GTkFOQnQBIsdOQTnVLGe9vk5BWRQJC8O+TkE/d+kQGcVOQQ==\",\"dtype\":\"float64\",\"order\":\"little\",\"shape\":[5]},\"lon\":{\"__ndarray__\":\"bY/RsNMoacGQ1pBQ3idpwUFOlrCmKGnBOE4T/KAoacH23tS3dilpwQ==\",\"dtype\":\"float64\",\"order\":\"little\",\"shape\":[5]},\"price\":[6450000,5995000,5500000,5500000,5799000]},\"selected\":{\"id\":\"3475\"},\"selection_policy\":{\"id\":\"3492\"}},\"id\":\"3474\",\"type\":\"ColumnDataSource\"},{\"attributes\":{},\"id\":\"3455\",\"type\":\"AllLabels\"},{\"attributes\":{\"fill_color\":{\"field\":\"color\",\"transform\":{\"id\":\"3473\"}},\"hatch_color\":{\"field\":\"color\",\"transform\":{\"id\":\"3473\"}},\"line_color\":{\"field\":\"color\",\"transform\":{\"id\":\"3473\"}},\"size\":{\"value\":5.477225575051661},\"x\":{\"field\":\"lon\"},\"y\":{\"field\":\"lat\"}},\"id\":\"3480\",\"type\":\"Scatter\"},{\"attributes\":{},\"id\":\"3475\",\"type\":\"Selection\"},{\"attributes\":{\"fill_color\":{\"field\":\"color\",\"transform\":{\"id\":\"3473\"}},\"hatch_color\":{\"field\":\"color\",\"transform\":{\"id\":\"3473\"}},\"line_color\":{\"field\":\"color\",\"transform\":{\"id\":\"3473\"}},\"size\":{\"value\":5.477225575051661},\"x\":{\"field\":\"lon\"},\"y\":{\"field\":\"lat\"}},\"id\":\"3477\",\"type\":\"Scatter\"},{\"attributes\":{\"axis\":{\"id\":\"3423\"},\"coordinates\":null,\"dimension\":1,\"grid_line_color\":null,\"group\":null,\"ticker\":null},\"id\":\"3426\",\"type\":\"Grid\"},{\"attributes\":{\"code\":\"\\n        var projections = Bokeh.require(\\\"core/util/projections\\\");\\n        var x = special_vars.data_x\\n        var y = special_vars.data_y\\n        if (projections.wgs84_mercator.invert == null) {\\n          var coords = projections.wgs84_mercator.inverse([x, y])\\n        } else {\\n          var coords = projections.wgs84_mercator.invert(x, y)\\n        }\\n        return \\\"\\\" + (coords[0]).toFixed(4)\\n    \"},\"id\":\"3486\",\"type\":\"CustomJSHover\"},{\"attributes\":{\"dimension\":\"lon\"},\"id\":\"3443\",\"type\":\"MercatorTickFormatter\"},{\"attributes\":{\"fill_alpha\":{\"value\":0.1},\"fill_color\":{\"field\":\"color\",\"transform\":{\"id\":\"3473\"}},\"hatch_alpha\":{\"value\":0.1},\"hatch_color\":{\"field\":\"color\",\"transform\":{\"id\":\"3473\"}},\"line_alpha\":{\"value\":0.1},\"line_color\":{\"field\":\"color\",\"transform\":{\"id\":\"3473\"}},\"size\":{\"value\":5.477225575051661},\"x\":{\"field\":\"lon\"},\"y\":{\"field\":\"lat\"}},\"id\":\"3478\",\"type\":\"Scatter\"},{\"attributes\":{\"code\":\"\\n        var projections = Bokeh.require(\\\"core/util/projections\\\");\\n        var x = special_vars.data_x\\n        var y = special_vars.data_y\\n        if (projections.wgs84_mercator.invert == null) {\\n          var coords = projections.wgs84_mercator.inverse([x, y])\\n        } else {\\n          var coords = projections.wgs84_mercator.invert(x, y)\\n        }\\n        return \\\"\\\" + (coords[1]).toFixed(4)\\n    \"},\"id\":\"3487\",\"type\":\"CustomJSHover\"},{\"attributes\":{\"end\":-13186874.704397433,\"min_interval\":5,\"reset_end\":-13186874.704397433,\"reset_start\":-13194093.558018217,\"start\":-13194093.558018217,\"tags\":[[[\"lon\",\"lon\",null]]]},\"id\":\"3403\",\"type\":\"Range1d\"},{\"attributes\":{},\"id\":\"3490\",\"type\":\"NoOverlap\"},{\"attributes\":{\"callback\":null,\"formatters\":{\"$x\":{\"id\":\"3486\"},\"$y\":{\"id\":\"3487\"}},\"renderers\":[{\"id\":\"3482\"}],\"tags\":[\"hv_created\"],\"tooltips\":[[\"lon\",\"$x{custom}\"],[\"lat\",\"$y{custom}\"],[\"price\",\"@{price}\"]]},\"id\":\"3407\",\"type\":\"HoverTool\"},{\"attributes\":{\"dimension\":\"lat\"},\"id\":\"3445\",\"type\":\"MercatorTickFormatter\"},{\"attributes\":{\"tools\":[{\"id\":\"3407\"},{\"id\":\"3427\"},{\"id\":\"3428\"},{\"id\":\"3429\"},{\"id\":\"3430\"},{\"id\":\"3431\"}]},\"id\":\"3433\",\"type\":\"Toolbar\"},{\"attributes\":{\"attribution\":\"&copy; <a href=\\\"https://www.openstreetmap.org/copyright\\\">OpenStreetMap</a> contributors\",\"url\":\"https://c.tile.openstreetmap.org/{Z}/{X}/{Y}.png\"},\"id\":\"3468\",\"type\":\"WMTSTileSource\"},{\"attributes\":{\"margin\":[5,5,5,5],\"name\":\"HSpacer07873\",\"sizing_mode\":\"stretch_width\"},\"id\":\"3551\",\"type\":\"Spacer\"},{\"attributes\":{\"bottom_units\":\"screen\",\"coordinates\":null,\"fill_alpha\":0.5,\"fill_color\":\"lightgrey\",\"group\":null,\"left_units\":\"screen\",\"level\":\"overlay\",\"line_alpha\":1.0,\"line_color\":\"black\",\"line_dash\":[4,4],\"line_width\":2,\"right_units\":\"screen\",\"syncable\":false,\"top_units\":\"screen\"},\"id\":\"3432\",\"type\":\"BoxAnnotation\"},{\"attributes\":{\"fill_alpha\":{\"value\":0.2},\"fill_color\":{\"field\":\"color\",\"transform\":{\"id\":\"3473\"}},\"hatch_alpha\":{\"value\":0.2},\"hatch_color\":{\"field\":\"color\",\"transform\":{\"id\":\"3473\"}},\"line_alpha\":{\"value\":0.2},\"line_color\":{\"field\":\"color\",\"transform\":{\"id\":\"3473\"}},\"size\":{\"value\":5.477225575051661},\"x\":{\"field\":\"lon\"},\"y\":{\"field\":\"lat\"}},\"id\":\"3481\",\"type\":\"Scatter\"},{\"attributes\":{},\"id\":\"3427\",\"type\":\"SaveTool\"},{\"attributes\":{},\"id\":\"3428\",\"type\":\"PanTool\"},{\"attributes\":{\"fill_color\":{\"field\":\"color\",\"transform\":{\"id\":\"3473\"}},\"hatch_color\":{\"field\":\"color\",\"transform\":{\"id\":\"3473\"}},\"line_color\":{\"field\":\"color\",\"transform\":{\"id\":\"3473\"}},\"size\":{\"value\":5.477225575051661},\"x\":{\"field\":\"lon\"},\"y\":{\"field\":\"lat\"}},\"id\":\"3479\",\"type\":\"Scatter\"},{\"attributes\":{},\"id\":\"3431\",\"type\":\"ResetTool\"},{\"attributes\":{},\"id\":\"3484\",\"type\":\"BasicTicker\"},{\"attributes\":{\"source\":{\"id\":\"3474\"}},\"id\":\"3483\",\"type\":\"CDSView\"},{\"attributes\":{\"zoom_on_axis\":false},\"id\":\"3429\",\"type\":\"WheelZoomTool\"},{\"attributes\":{\"children\":[{\"id\":\"3398\"},{\"id\":\"3410\"},{\"id\":\"3551\"}],\"margin\":[0,0,0,0],\"name\":\"Row07868\",\"tags\":[\"embedded\"]},\"id\":\"3397\",\"type\":\"Row\"},{\"attributes\":{},\"id\":\"3417\",\"type\":\"LinearScale\"},{\"attributes\":{\"below\":[{\"id\":\"3419\"}],\"center\":[{\"id\":\"3422\"},{\"id\":\"3426\"}],\"frame_height\":500,\"frame_width\":700,\"height\":null,\"left\":[{\"id\":\"3423\"}],\"margin\":[5,5,5,5],\"match_aspect\":true,\"min_border_bottom\":10,\"min_border_left\":10,\"min_border_right\":10,\"min_border_top\":10,\"renderers\":[{\"id\":\"3471\"},{\"id\":\"3482\"}],\"right\":[{\"id\":\"3485\"}],\"sizing_mode\":\"fixed\",\"title\":{\"id\":\"3411\"},\"toolbar\":{\"id\":\"3433\"},\"width\":null,\"x_range\":{\"id\":\"3403\"},\"x_scale\":{\"id\":\"3415\"},\"y_range\":{\"id\":\"3404\"},\"y_scale\":{\"id\":\"3417\"}},\"id\":\"3410\",\"subtype\":\"Figure\",\"type\":\"Plot\"},{\"attributes\":{\"match_aspect\":true,\"overlay\":{\"id\":\"3432\"}},\"id\":\"3430\",\"type\":\"BoxZoomTool\"},{\"attributes\":{\"bar_line_color\":\"black\",\"color_mapper\":{\"id\":\"3473\"},\"coordinates\":null,\"group\":null,\"label_standoff\":8,\"location\":[0,0],\"major_label_policy\":{\"id\":\"3490\"},\"major_tick_line_color\":\"black\",\"ticker\":{\"id\":\"3484\"}},\"id\":\"3485\",\"type\":\"ColorBar\"},{\"attributes\":{\"coordinates\":null,\"group\":null,\"level\":\"glyph\",\"tile_source\":{\"id\":\"3468\"}},\"id\":\"3471\",\"type\":\"TileRenderer\"},{\"attributes\":{\"axis_label\":\"x\",\"coordinates\":null,\"formatter\":{\"id\":\"3443\"},\"group\":null,\"major_label_policy\":{\"id\":\"3448\"},\"ticker\":{\"id\":\"3442\"}},\"id\":\"3419\",\"type\":\"LinearAxis\"}],\"root_ids\":[\"3397\"]},\"title\":\"Bokeh Application\",\"version\":\"2.4.2\"}};\n",
       "    var render_items = [{\"docid\":\"43644d68-706f-497c-a47b-9023967af4f5\",\"root_ids\":[\"3397\"],\"roots\":{\"3397\":\"6846062b-7b53-4d52-9803-d7882d272735\"}}];\n",
       "    root.Bokeh.embed.embed_items_notebook(docs_json, render_items);\n",
       "  }\n",
       "  if (root.Bokeh !== undefined && root.Bokeh.Panel !== undefined) {\n",
       "    embed_document(root);\n",
       "  } else {\n",
       "    var attempts = 0;\n",
       "    var timer = setInterval(function(root) {\n",
       "      if (root.Bokeh !== undefined && root.Bokeh.Panel !== undefined) {\n",
       "        clearInterval(timer);\n",
       "        embed_document(root);\n",
       "      } else if (document.readyState == \"complete\") {\n",
       "        attempts++;\n",
       "        if (attempts > 200) {\n",
       "          clearInterval(timer);\n",
       "          console.log(\"Bokeh: ERROR: Unable to run BokehJS code because BokehJS library is missing\");\n",
       "        }\n",
       "      }\n",
       "    }, 25, root)\n",
       "  }\n",
       "})(window);</script>"
      ],
      "text/plain": [
       ":Overlay\n",
       "   .Tiles.I  :Tiles   [x,y]\n",
       "   .Points.I :Points   [lon,lat]   (price)"
      ]
     },
     "execution_count": 75,
     "metadata": {
      "application/vnd.holoviews_exec.v0+json": {
       "id": "3397"
      }
     },
     "output_type": "execute_result"
    }
   ],
   "source": [
    "df_filtred_by_price.hvplot.points(\n",
    "    'lon',\n",
    "    'lat',\n",
    "    geo=True,\n",
    "    #size='price',\n",
    "    color='price',\n",
    "    frame_width=700,\n",
    "    frame_height=500,\n",
    "    title='Bla bla bla',\n",
    "    tiles=True,\n",
    ")"
   ]
  },
  {
   "cell_type": "code",
   "execution_count": null,
   "id": "be2750ac-86db-4b84-9fa0-460265fefd03",
   "metadata": {},
   "outputs": [],
   "source": []
  }
 ],
 "metadata": {
  "kernelspec": {
   "display_name": "Python (dev)",
   "language": "python",
   "name": "dev"
  },
  "language_info": {
   "codemirror_mode": {
    "name": "ipython",
    "version": 3
   },
   "file_extension": ".py",
   "mimetype": "text/x-python",
   "name": "python",
   "nbconvert_exporter": "python",
   "pygments_lexer": "ipython3",
   "version": "3.7.10"
  }
 },
 "nbformat": 4,
 "nbformat_minor": 5
}
