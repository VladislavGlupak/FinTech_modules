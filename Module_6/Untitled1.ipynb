{
 "cells": [
  {
   "cell_type": "code",
   "execution_count": 24,
   "id": "4101e865-9147-4b3f-ba8f-a1b1533201c3",
   "metadata": {},
   "outputs": [
    {
     "name": "stdout",
     "output_type": "stream",
     "text": [
      "          lon        lat                                   address    price\n",
      "0 -118.495094  34.035720       547 16th St, Santa Monica, CA 90402  6450000\n",
      "0 -118.477460  34.039566   1045 Harvard St, Santa Monica, CA 90403  5995000\n",
      "0 -118.491860  34.007572     7 Vicente Ter, Santa Monica, CA 90401  5500000\n",
      "0 -118.491450  34.007656   7-7 Vicente Ter, Santa Monica, CA 90401  5500000\n",
      "0 -118.506810  34.031810  713 Georgina Ave, Santa Monica, CA 90402  5799000\n"
     ]
    }
   ],
   "source": [
    "import pandas as pd\n",
    "import hvplot.pandas\n",
    "import requests\n",
    "import json\n",
    "\n",
    "desired_city = 'santa monica'\n",
    "total_price = 6000000\n",
    "\n",
    "\n",
    "url = 'https://zillow-com1.p.rapidapi.com/propertyExtendedSearch'\n",
    "query = {f'location': {desired_city}, 'home_type': 'Houses'}\n",
    "headers =  {\n",
    "'x-rapidapi-host': 'zillow-com1.p.rapidapi.com',\n",
    "'x-rapidapi-key': 'c039c94e44msh15c6a851d5e7e68p1ce297jsn3a5904ceb62e'\n",
    "}\n",
    "response = requests.request('GET', url, headers=headers, params=query)\n",
    "response_json = response.json()\n",
    "\n",
    "if int(response.status_code) != 200:\n",
    "    print(\"Sorry! We couldn't get any response from server. Try one more time.\")\n",
    "else:\n",
    "    if len(response_json) == 0:\n",
    "        print(\"We did not find any data matching your request...\")\n",
    "    else:\n",
    "    # pull desired data from json\n",
    "        df = pd.DataFrame()\n",
    "        count = 0\n",
    "        for address in response_json[\"props\"]:\n",
    "            big_mac_index_data = {\n",
    "            \"lon\": [response_json[\"props\"][count]['longitude']],\n",
    "            \"lat\": [response_json[\"props\"][count]['latitude']],\n",
    "            \"address\": [response_json[\"props\"][count]['address']],\n",
    "            \"price\": [response_json[\"props\"][count]['price']],\n",
    "            }\n",
    "            df = df.append(pd.DataFrame.from_dict(big_mac_index_data))\n",
    "            if count <= len(response_json[\"props\"]):\n",
    "                count = count+1       \n",
    "\n",
    "        df_filtred_by_price = df[ (total_price-(total_price*0.1) <= df['price']) & (df['price'] <= total_price+(total_price*0.1))]\n",
    "\n",
    "\n",
    "        print(df_filtred_by_price)\n",
    "        response_json\n",
    "       "
   ]
  },
  {
   "cell_type": "code",
   "execution_count": null,
   "id": "6b3f8fa4-d732-4581-9e3b-6cc3e80120db",
   "metadata": {},
   "outputs": [],
   "source": []
  }
 ],
 "metadata": {
  "kernelspec": {
   "display_name": "Python (dev)",
   "language": "python",
   "name": "dev"
  },
  "language_info": {
   "codemirror_mode": {
    "name": "ipython",
    "version": 3
   },
   "file_extension": ".py",
   "mimetype": "text/x-python",
   "name": "python",
   "nbconvert_exporter": "python",
   "pygments_lexer": "ipython3",
   "version": "3.7.10"
  }
 },
 "nbformat": 4,
 "nbformat_minor": 5
}
