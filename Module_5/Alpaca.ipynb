{
 "cells": [
  {
   "cell_type": "code",
   "execution_count": 1,
   "id": "671bcfe5-cd93-4fc5-a34b-edf6ffc94df8",
   "metadata": {},
   "outputs": [],
   "source": [
    "# Import the required libraries and dependencies\n",
    "import os\n",
    "import requests\n",
    "import pandas as pd\n",
    "from dotenv import load_dotenv\n",
    "import alpaca_trade_api as tradeapi"
   ]
  },
  {
   "cell_type": "code",
   "execution_count": 2,
   "id": "536aa95b-d9ec-47c9-8efe-961f068d59a8",
   "metadata": {},
   "outputs": [],
   "source": [
    "# Load .env environment variables\n",
    "load_dotenv()\n",
    "\n",
    "# Set Alpaca API key and secret\n",
    "alpaca_api_key = os.getenv(\"ALPACA_API_KEY\")\n",
    "alpaca_secret_key = os.getenv(\"ALPACA_SECRET_KEY\")"
   ]
  },
  {
   "cell_type": "code",
   "execution_count": 3,
   "id": "322d963c-8e3b-4ef1-9e97-ca3ebdab55e6",
   "metadata": {},
   "outputs": [],
   "source": [
    "# Create the Alpaca API object\n",
    "alpaca = tradeapi.REST(\n",
    "    alpaca_api_key,\n",
    "    alpaca_secret_key,\n",
    "    api_version=\"v2\")"
   ]
  },
  {
   "cell_type": "code",
   "execution_count": 4,
   "id": "a7cd48ef-a642-4f4b-9b1d-17caef45de5f",
   "metadata": {},
   "outputs": [],
   "source": [
    "# Format current date as ISO format\n",
    "start_date = pd.Timestamp(\"2020-06-01\", tz=\"America/New_York\").isoformat()\n",
    "end_date = pd.Timestamp(\"2020-06-05\", tz=\"America/New_York\").isoformat()"
   ]
  },
  {
   "cell_type": "code",
   "execution_count": 5,
   "id": "70c326ec-1788-41ce-b47c-9c85d235c705",
   "metadata": {},
   "outputs": [],
   "source": [
    "# Set the tickers\n",
    "tickers = [\"FB\", \"TWTR\"]"
   ]
  },
  {
   "cell_type": "code",
   "execution_count": 6,
   "id": "3f3cfc09-0374-407b-820d-683854b4362c",
   "metadata": {},
   "outputs": [],
   "source": [
    "# Set timeframe to one day ('1D') for the Alpaca API\n",
    "timeframe = \"1D\""
   ]
  },
  {
   "cell_type": "code",
   "execution_count": 7,
   "id": "30273996-26b8-4e11-8aa0-10e918b71524",
   "metadata": {},
   "outputs": [
    {
     "data": {
      "text/html": [
       "<div>\n",
       "<style scoped>\n",
       "    .dataframe tbody tr th:only-of-type {\n",
       "        vertical-align: middle;\n",
       "    }\n",
       "\n",
       "    .dataframe tbody tr th {\n",
       "        vertical-align: top;\n",
       "    }\n",
       "\n",
       "    .dataframe thead tr th {\n",
       "        text-align: left;\n",
       "    }\n",
       "\n",
       "    .dataframe thead tr:last-of-type th {\n",
       "        text-align: right;\n",
       "    }\n",
       "</style>\n",
       "<table border=\"1\" class=\"dataframe\">\n",
       "  <thead>\n",
       "    <tr>\n",
       "      <th></th>\n",
       "      <th colspan=\"5\" halign=\"left\">FB</th>\n",
       "      <th colspan=\"5\" halign=\"left\">TWTR</th>\n",
       "    </tr>\n",
       "    <tr>\n",
       "      <th></th>\n",
       "      <th>open</th>\n",
       "      <th>high</th>\n",
       "      <th>low</th>\n",
       "      <th>close</th>\n",
       "      <th>volume</th>\n",
       "      <th>open</th>\n",
       "      <th>high</th>\n",
       "      <th>low</th>\n",
       "      <th>close</th>\n",
       "      <th>volume</th>\n",
       "    </tr>\n",
       "    <tr>\n",
       "      <th>time</th>\n",
       "      <th></th>\n",
       "      <th></th>\n",
       "      <th></th>\n",
       "      <th></th>\n",
       "      <th></th>\n",
       "      <th></th>\n",
       "      <th></th>\n",
       "      <th></th>\n",
       "      <th></th>\n",
       "      <th></th>\n",
       "    </tr>\n",
       "  </thead>\n",
       "  <tbody>\n",
       "    <tr>\n",
       "      <th>2020-06-01 00:00:00-04:00</th>\n",
       "      <td>224.59</td>\n",
       "      <td>232.44</td>\n",
       "      <td>223.5000</td>\n",
       "      <td>231.94</td>\n",
       "      <td>33886754</td>\n",
       "      <td>31.06</td>\n",
       "      <td>32.100</td>\n",
       "      <td>30.84</td>\n",
       "      <td>31.890</td>\n",
       "      <td>26975226</td>\n",
       "    </tr>\n",
       "    <tr>\n",
       "      <th>2020-06-02 00:00:00-04:00</th>\n",
       "      <td>230.94</td>\n",
       "      <td>233.00</td>\n",
       "      <td>226.5600</td>\n",
       "      <td>232.83</td>\n",
       "      <td>36197240</td>\n",
       "      <td>32.19</td>\n",
       "      <td>32.425</td>\n",
       "      <td>31.61</td>\n",
       "      <td>32.260</td>\n",
       "      <td>26812168</td>\n",
       "    </tr>\n",
       "    <tr>\n",
       "      <th>2020-06-03 00:00:00-04:00</th>\n",
       "      <td>232.11</td>\n",
       "      <td>232.65</td>\n",
       "      <td>228.5300</td>\n",
       "      <td>230.06</td>\n",
       "      <td>28224941</td>\n",
       "      <td>32.61</td>\n",
       "      <td>35.040</td>\n",
       "      <td>32.44</td>\n",
       "      <td>34.890</td>\n",
       "      <td>52237816</td>\n",
       "    </tr>\n",
       "    <tr>\n",
       "      <th>2020-06-04 00:00:00-04:00</th>\n",
       "      <td>229.56</td>\n",
       "      <td>231.63</td>\n",
       "      <td>224.6100</td>\n",
       "      <td>226.29</td>\n",
       "      <td>15405418</td>\n",
       "      <td>34.50</td>\n",
       "      <td>34.940</td>\n",
       "      <td>33.34</td>\n",
       "      <td>33.730</td>\n",
       "      <td>33835688</td>\n",
       "    </tr>\n",
       "    <tr>\n",
       "      <th>2020-06-05 00:00:00-04:00</th>\n",
       "      <td>226.71</td>\n",
       "      <td>231.35</td>\n",
       "      <td>225.3105</td>\n",
       "      <td>230.78</td>\n",
       "      <td>14358315</td>\n",
       "      <td>34.47</td>\n",
       "      <td>35.970</td>\n",
       "      <td>34.47</td>\n",
       "      <td>34.855</td>\n",
       "      <td>43954972</td>\n",
       "    </tr>\n",
       "  </tbody>\n",
       "</table>\n",
       "</div>"
      ],
      "text/plain": [
       "                               FB                                       TWTR  \\\n",
       "                             open    high       low   close    volume   open   \n",
       "time                                                                           \n",
       "2020-06-01 00:00:00-04:00  224.59  232.44  223.5000  231.94  33886754  31.06   \n",
       "2020-06-02 00:00:00-04:00  230.94  233.00  226.5600  232.83  36197240  32.19   \n",
       "2020-06-03 00:00:00-04:00  232.11  232.65  228.5300  230.06  28224941  32.61   \n",
       "2020-06-04 00:00:00-04:00  229.56  231.63  224.6100  226.29  15405418  34.50   \n",
       "2020-06-05 00:00:00-04:00  226.71  231.35  225.3105  230.78  14358315  34.47   \n",
       "\n",
       "                                                            \n",
       "                             high    low   close    volume  \n",
       "time                                                        \n",
       "2020-06-01 00:00:00-04:00  32.100  30.84  31.890  26975226  \n",
       "2020-06-02 00:00:00-04:00  32.425  31.61  32.260  26812168  \n",
       "2020-06-03 00:00:00-04:00  35.040  32.44  34.890  52237816  \n",
       "2020-06-04 00:00:00-04:00  34.940  33.34  33.730  33835688  \n",
       "2020-06-05 00:00:00-04:00  35.970  34.47  34.855  43954972  "
      ]
     },
     "execution_count": 7,
     "metadata": {},
     "output_type": "execute_result"
    }
   ],
   "source": [
    "# Get current closing prices for FB and TWTR\n",
    "df_portfolio = alpaca.get_barset(\n",
    "    tickers,\n",
    "    timeframe,\n",
    "    start = start_date,\n",
    "    end = end_date\n",
    ").df\n",
    "\n",
    "# Display sample data\n",
    "df_portfolio"
   ]
  },
  {
   "cell_type": "code",
   "execution_count": 9,
   "id": "28f011c3-6797-4064-b2ce-1f4ba928c5c2",
   "metadata": {},
   "outputs": [
    {
     "data": {
      "text/plain": [
       "time\n",
       "2020-06-01 00:00:00-04:00    231.94\n",
       "2020-06-02 00:00:00-04:00    232.83\n",
       "2020-06-03 00:00:00-04:00    230.06\n",
       "2020-06-04 00:00:00-04:00    226.29\n",
       "2020-06-05 00:00:00-04:00    230.78\n",
       "Name: close, dtype: float64"
      ]
     },
     "execution_count": 9,
     "metadata": {},
     "output_type": "execute_result"
    }
   ],
   "source": [
    "fb_close = df_portfolio[\"FB\"][\"close\"]\n",
    "fb_close"
   ]
  },
  {
   "cell_type": "code",
   "execution_count": 10,
   "id": "d5cdaa62-c7bf-48de-bd08-82ff049636eb",
   "metadata": {},
   "outputs": [
    {
     "data": {
      "text/html": [
       "<div>\n",
       "<style scoped>\n",
       "    .dataframe tbody tr th:only-of-type {\n",
       "        vertical-align: middle;\n",
       "    }\n",
       "\n",
       "    .dataframe tbody tr th {\n",
       "        vertical-align: top;\n",
       "    }\n",
       "\n",
       "    .dataframe thead th {\n",
       "        text-align: right;\n",
       "    }\n",
       "</style>\n",
       "<table border=\"1\" class=\"dataframe\">\n",
       "  <thead>\n",
       "    <tr style=\"text-align: right;\">\n",
       "      <th></th>\n",
       "      <th>FB</th>\n",
       "      <th>TWTR</th>\n",
       "    </tr>\n",
       "  </thead>\n",
       "  <tbody>\n",
       "    <tr>\n",
       "      <th>2020-06-01</th>\n",
       "      <td>231.94</td>\n",
       "      <td>31.890</td>\n",
       "    </tr>\n",
       "    <tr>\n",
       "      <th>2020-06-02</th>\n",
       "      <td>232.83</td>\n",
       "      <td>32.260</td>\n",
       "    </tr>\n",
       "    <tr>\n",
       "      <th>2020-06-03</th>\n",
       "      <td>230.06</td>\n",
       "      <td>34.890</td>\n",
       "    </tr>\n",
       "    <tr>\n",
       "      <th>2020-06-04</th>\n",
       "      <td>226.29</td>\n",
       "      <td>33.730</td>\n",
       "    </tr>\n",
       "    <tr>\n",
       "      <th>2020-06-05</th>\n",
       "      <td>230.78</td>\n",
       "      <td>34.855</td>\n",
       "    </tr>\n",
       "  </tbody>\n",
       "</table>\n",
       "</div>"
      ],
      "text/plain": [
       "                FB    TWTR\n",
       "2020-06-01  231.94  31.890\n",
       "2020-06-02  232.83  32.260\n",
       "2020-06-03  230.06  34.890\n",
       "2020-06-04  226.29  33.730\n",
       "2020-06-05  230.78  34.855"
      ]
     },
     "execution_count": 10,
     "metadata": {},
     "output_type": "execute_result"
    }
   ],
   "source": [
    "# Create an empty DataFrame for closing prices\n",
    "closing_prices_df = pd.DataFrame()\n",
    "\n",
    "# Get the closing prices of FB and TWTR\n",
    "closing_prices_df[\"FB\"] = df_portfolio[\"FB\"][\"close\"]\n",
    "closing_prices_df[\"TWTR\"] = df_portfolio[\"TWTR\"][\"close\"]\n",
    "\n",
    "# Drop the time component of the date\n",
    "closing_prices_df.index = closing_prices_df.index.date\n",
    "\n",
    "# Display sample data\n",
    "closing_prices_df.head(10)"
   ]
  },
  {
   "cell_type": "code",
   "execution_count": 13,
   "id": "1eb2056a-0cf2-4718-9709-7050f8a8faa0",
   "metadata": {},
   "outputs": [
    {
     "data": {
      "text/html": [
       "<div>\n",
       "<style scoped>\n",
       "    .dataframe tbody tr th:only-of-type {\n",
       "        vertical-align: middle;\n",
       "    }\n",
       "\n",
       "    .dataframe tbody tr th {\n",
       "        vertical-align: top;\n",
       "    }\n",
       "\n",
       "    .dataframe thead th {\n",
       "        text-align: right;\n",
       "    }\n",
       "</style>\n",
       "<table border=\"1\" class=\"dataframe\">\n",
       "  <thead>\n",
       "    <tr style=\"text-align: right;\">\n",
       "      <th></th>\n",
       "      <th>FB</th>\n",
       "      <th>TWTR</th>\n",
       "    </tr>\n",
       "  </thead>\n",
       "  <tbody>\n",
       "    <tr>\n",
       "      <th>2020-06-02</th>\n",
       "      <td>0.003837</td>\n",
       "      <td>0.011602</td>\n",
       "    </tr>\n",
       "    <tr>\n",
       "      <th>2020-06-03</th>\n",
       "      <td>-0.011897</td>\n",
       "      <td>0.081525</td>\n",
       "    </tr>\n",
       "    <tr>\n",
       "      <th>2020-06-04</th>\n",
       "      <td>-0.016387</td>\n",
       "      <td>-0.033247</td>\n",
       "    </tr>\n",
       "    <tr>\n",
       "      <th>2020-06-05</th>\n",
       "      <td>0.019842</td>\n",
       "      <td>0.033353</td>\n",
       "    </tr>\n",
       "  </tbody>\n",
       "</table>\n",
       "</div>"
      ],
      "text/plain": [
       "                  FB      TWTR\n",
       "2020-06-02  0.003837  0.011602\n",
       "2020-06-03 -0.011897  0.081525\n",
       "2020-06-04 -0.016387 -0.033247\n",
       "2020-06-05  0.019842  0.033353"
      ]
     },
     "execution_count": 13,
     "metadata": {},
     "output_type": "execute_result"
    }
   ],
   "source": [
    "# Compute daily returns\n",
    "daily_returns_df = closing_prices_df.pct_change().dropna()\n",
    "\n",
    "# Display sample data\n",
    "daily_returns_df.head(10)"
   ]
  },
  {
   "cell_type": "code",
   "execution_count": 14,
   "id": "0eb11377-df19-41ff-9eaf-a26ff1f5f2f3",
   "metadata": {},
   "outputs": [
    {
     "data": {
      "text/plain": [
       "<AxesSubplot:title={'center':'Daily Returns of FB and TWTR - June 2020'}>"
      ]
     },
     "execution_count": 14,
     "metadata": {},
     "output_type": "execute_result"
    },
    {
     "data": {
      "image/png": "[encoded data removed]",
      "text/plain": [
       "<Figure size 720x504 with 1 Axes>"
      ]
     },
     "metadata": {
      "needs_background": "light"
     },
     "output_type": "display_data"
    }
   ],
   "source": [
    "# Plot daily returns\n",
    "daily_returns_df.plot(figsize=(10, 7), title=\"Daily Returns of FB and TWTR - June 2020\", rot=90)"
   ]
  },
  {
   "cell_type": "code",
   "execution_count": null,
   "id": "52b158d0-f1ae-4987-b627-2a47a352fdf5",
   "metadata": {},
   "outputs": [],
   "source": []
  }
 ],
 "metadata": {
  "kernelspec": {
   "display_name": "Python (dev)",
   "language": "python",
   "name": "dev"
  },
  "language_info": {
   "codemirror_mode": {
    "name": "ipython",
    "version": 3
   },
   "file_extension": ".py",
   "mimetype": "text/x-python",
   "name": "python",
   "nbconvert_exporter": "python",
   "pygments_lexer": "ipython3",
   "version": "3.7.10"
  }
 },
 "nbformat": 4,
 "nbformat_minor": 5
}
