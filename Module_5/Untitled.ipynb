{
 "cells": [
  {
   "cell_type": "code",
   "execution_count": 2,
   "id": "b10c5f28-721c-48fa-9f54-d161bb752057",
   "metadata": {},
   "outputs": [],
   "source": [
    "# Import the required libraries and dependencies\n",
    "import pandas as pd\n",
    "import requests\n",
    "import json"
   ]
  },
  {
   "cell_type": "code",
   "execution_count": 4,
   "id": "00a87ac8-980c-412b-bc04-aec3fa655a21",
   "metadata": {},
   "outputs": [
    {
     "name": "stdout",
     "output_type": "stream",
     "text": [
      "{\n",
      "    \"data\": {\n",
      "        \"52\": {\n",
      "            \"circulating_supply\": 47663117635,\n",
      "            \"id\": 52,\n",
      "            \"last_updated\": 1642194670,\n",
      "            \"max_supply\": 100000000000,\n",
      "            \"name\": \"XRP\",\n",
      "            \"quotes\": {\n",
      "                \"USD\": {\n",
      "                    \"market_cap\": 37235259764,\n",
      "                    \"percent_change_1h\": 0.724737469175248,\n",
      "                    \"percent_change_24h\": 1.0970241580923,\n",
      "                    \"percent_change_7d\": -0.394609360331016,\n",
      "                    \"percentage_change_1h\": 0.724737469175248,\n",
      "                    \"percentage_change_24h\": 1.0970241580923,\n",
      "                    \"percentage_change_7d\": -0.394609360331016,\n",
      "                    \"price\": 0.780032,\n",
      "                    \"volume_24h\": 2172944371\n",
      "                }\n",
      "            },\n",
      "            \"rank\": 6,\n",
      "            \"symbol\": \"XRP\",\n",
      "            \"total_supply\": 47663117635,\n",
      "            \"website_slug\": \"ripple\"\n",
      "        }\n",
      "    },\n",
      "    \"metadata\": {\n",
      "        \"error\": null,\n",
      "        \"num_cryptocurrencies\": 3105,\n",
      "        \"timestamp\": 1642194670\n",
      "    }\n",
      "}\n"
     ]
    }
   ],
   "source": [
    "# Set the Ripple endpoint\n",
    "xrp_url = \"https://api.alternative.me/v2/ticker/Ripple/\"\n",
    "\n",
    "# Fetch the current Ripple price\n",
    "response = requests.get(xrp_url).json()\n",
    "\n",
    "# Display response data\n",
    "print(json.dumps(response, indent=4, sort_keys=True))"
   ]
  },
  {
   "cell_type": "code",
   "execution_count": 6,
   "id": "fc027d3f-2f26-49b1-bd0d-3840a010230e",
   "metadata": {},
   "outputs": [
    {
     "name": "stdout",
     "output_type": "stream",
     "text": [
      "The symbol for Ripple is XRP\n",
      "The price for Ripple is $0.780032\n"
     ]
    }
   ],
   "source": [
    "xrp_symbol = response['data']['52']['symbol']\n",
    "print(f\"The symbol for Ripple is {xrp_symbol}\")\n",
    "\n",
    "xrp_price = response['data']['52']['quotes']['USD']['price']\n",
    "print(f\"The price for Ripple is ${xrp_price}\")"
   ]
  },
  {
   "cell_type": "code",
   "execution_count": null,
   "id": "e84cf2e0-8e55-45e1-8e4d-623af54b8167",
   "metadata": {},
   "outputs": [],
   "source": []
  }
 ],
 "metadata": {
  "kernelspec": {
   "display_name": "Python (dev)",
   "language": "python",
   "name": "dev"
  },
  "language_info": {
   "codemirror_mode": {
    "name": "ipython",
    "version": 3
   },
   "file_extension": ".py",
   "mimetype": "text/x-python",
   "name": "python",
   "nbconvert_exporter": "python",
   "pygments_lexer": "ipython3",
   "version": "3.7.10"
  }
 },
 "nbformat": 4,
 "nbformat_minor": 5
}
