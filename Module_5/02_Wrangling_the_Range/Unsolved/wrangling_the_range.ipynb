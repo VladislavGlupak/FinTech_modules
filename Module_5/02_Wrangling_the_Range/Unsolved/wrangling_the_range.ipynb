{
 "cells": [
  {
   "cell_type": "markdown",
   "metadata": {},
   "source": [
    "# Wrangling the Range\n",
    "\n",
    "In this activity, you’ll calculate a range of possible performance outcomes by using confidence intervals and the related z-scores.\n",
    "\n",
    "Instructions:\n",
    "\n",
    "1. Create an environment file (`.env`) in the root of the `Unsolved` folder. This file will hold your Alpaca API and secret keys.\n",
    "\n",
    "2. Load the Alpaca API and secret keys into `decisive_distributions.ipynb`, and set the values equal to variables of the same name.\n",
    "\n",
    "3. Create the Alpaca API `REST` object by calling the Alpaca `tradeapi.REST` function and setting `alpaca_api_key`, `alpaca_secret_key`, and `api_version`.\n",
    "\n",
    "4. Use the Alpaca SDK to make an API call that gets one year of daily stock information (from 2019-05-01 to 2020-05-01) for the following stock tickers:\n",
    "\n",
    "    - `SPY` (SPDR S&P 500 ETF Trust)\n",
    "\n",
    "    - `V` (Visa)\n",
    "\n",
    "    - `SQ` (Square, Inc.)\n",
    "\n",
    "    - `GS` (Goldman Sachs)\n",
    " \n",
    "> **Hint** Remember to set the tickers, time frame, start and end dates (‘2019-05-01’ and ‘2020-05-01’) and the number of rows returned. Then use the Alpaca `get_barset` function to make the API call. Be sure to set the `df` property at the end of the `get_barset` function so that the API response is returned as a DataFrame.\n",
    "\n",
    "5. Create a new DataFrame that holds the closing prices of each stock.\n",
    "\n",
    "> **Hint** Use both the head and tail functions to display the first five and the last five rows of the DataFrame. You need the price of each stock on the last day of the period for later use in your confidence interval calculations.\n",
    "\n",
    "6. Generate a daily returns DataFrame that’s based on the closing prices of each stock.\n",
    "\n",
    "7. Generate the summary statistics for the daily returns DataFrame. This provides your first review of the distribution information for your stocks.\n",
    "\n",
    "8. Visualize the distribution of the daily returns DataFrame by creating a histogram plot and a density plot.\n",
    "\n",
    "> **Hint** Generate only two plots. Both the histogram and the density plot will show the data for all four stocks.\n",
    "\n",
    "9. Based on your calculations and plots, answer the following questions: Which is the least volatile stock in the group? Which is the most volatile?\n",
    "\n",
    "10. With a 95% confidence level, calculate the downside and upside performance expectations for both SPY and V based on the mean and standard deviation values.\n",
    "\n",
    "11. With a 99% level of confidence, calculate the downside and upside performance expectations for both SQ and GS based on the mean and standard deviation values. \n",
    "\n",
    "12. Identify the lower and upper performance bounds for the start of each tail for SPY and SQ stocks. Note that the tail risk occurs when the performance measures outside the 99.7% confidence interval.\n",
    "\n",
    "\n",
    "References:\n",
    "\n",
    "[Alpaca API Docs](https://alpaca.markets/docs/api-documentation/)\n",
    "\n",
    "[Pandas Histogram plot](https://pandas.pydata.org/pandas-docs/stable/reference/api/pandas.DataFrame.hist.html)\n",
    "\n",
    "[Pandas Density plot](https://pandas.pydata.org/pandas-docs/stable/reference/api/pandas.DataFrame.plot.density.html)\n",
    "\n"
   ]
  },
  {
   "cell_type": "markdown",
   "metadata": {},
   "source": [
    "## Import the required libraries and dependencies"
   ]
  },
  {
   "cell_type": "code",
   "execution_count": 2,
   "metadata": {
    "tags": []
   },
   "outputs": [],
   "source": [
    "# Import the required libraries and dependencies\n",
    "import os\n",
    "import requests\n",
    "import pandas as pd\n",
    "from dotenv import load_dotenv\n",
    "import alpaca_trade_api as tradeapi\n",
    "%matplotlib inline"
   ]
  },
  {
   "cell_type": "markdown",
   "metadata": {},
   "source": [
    "## Step 1: Create an environment file (`.env`) in the root of the `Unsolved` folder. This file will hold your Alpaca API and secret keys."
   ]
  },
  {
   "cell_type": "markdown",
   "metadata": {},
   "source": [
    "## Step 2: Load the Alpaca API and secret keys into `decisive_probability_distributions.ipynb`, and set the values equal to variables of the same name.\n",
    "\n",
    "* Load the environment variable by calling the `load_dotenv()` function.\n",
    "* Set the value of the variables `alpaca_api_key` and `alpaca_secret_key` equal to their respective environment variables. \n",
    "* Confirm the variables are available by checking the `type` of each. "
   ]
  },
  {
   "cell_type": "code",
   "execution_count": 3,
   "metadata": {},
   "outputs": [
    {
     "data": {
      "text/plain": [
       "True"
      ]
     },
     "execution_count": 3,
     "metadata": {},
     "output_type": "execute_result"
    }
   ],
   "source": [
    "# Load the environment variables by calling the load_dotenv function\n",
    "# YOUR CODE HERE \n",
    "load_dotenv()"
   ]
  },
  {
   "cell_type": "code",
   "execution_count": 4,
   "metadata": {},
   "outputs": [
    {
     "data": {
      "text/plain": [
       "str"
      ]
     },
     "metadata": {},
     "output_type": "display_data"
    },
    {
     "data": {
      "text/plain": [
       "str"
      ]
     },
     "metadata": {},
     "output_type": "display_data"
    }
   ],
   "source": [
    "# Set Alpaca API key and secret by calling the os.getenv function and referencing the environment variable names\n",
    "# Set each environment variable to a notebook variable of the same name\n",
    "alpaca_api_key = os.getenv(\"ALPACA_API_KEY\")\n",
    "alpaca_secret_key = os.getenv(\"ALPACA_SECRET_KEY\")\n",
    "\n",
    "# Check the values were imported correctly by evaluating the type of each\n",
    "display(type(alpaca_api_key))\n",
    "display(type(alpaca_secret_key))\n",
    "    "
   ]
  },
  {
   "cell_type": "markdown",
   "metadata": {},
   "source": [
    "## Step 3: Create the Alpaca API `REST` object by calling the Alpaca `tradeapi.REST` function and setting `alpaca_api_key`, `alpaca_secret_key`, and `api_version`."
   ]
  },
  {
   "cell_type": "code",
   "execution_count": 5,
   "metadata": {
    "tags": []
   },
   "outputs": [],
   "source": [
    "# Create your Alpaca API REST object by calling Alpaca's tradeapi.REST function\n",
    "# Set the parameters to your alpaca_api_key, alpaca_secret_key and api_version=\"v2\" \n",
    "alpaca = tradeapi.REST(\n",
    "    alpaca_api_key,\n",
    "    alpaca_secret_key,\n",
    "    api_version=\"v2\")\n"
   ]
  },
  {
   "cell_type": "markdown",
   "metadata": {},
   "source": [
    "## Step 4: Use the Alpaca SDK to make an API call that gets one year of daily stock information (from 2019-05-01 to 2020-05-01) for the following stock tickers:\n",
    ".\n",
    "* Create the value for the required `tickers`.\n",
    "* Set the values for `start_date` and `end_date` using the `pd.Timestamp` function. The dates should be 2019-05-01 through 2020-05-01.\n",
    "* Set the `timeframe` value to 1 day.\n",
    "* Create the `portfolio_prices_df` DataFrame by setting it equal to the `alpaca.get_barset` function. "
   ]
  },
  {
   "cell_type": "code",
   "execution_count": 6,
   "metadata": {},
   "outputs": [],
   "source": [
    "# Create the list for the required tickers\n",
    "tickers = [\"SPY\",\"V\",\"SQ\", \"GS\"]\n"
   ]
  },
  {
   "cell_type": "code",
   "execution_count": 7,
   "metadata": {},
   "outputs": [],
   "source": [
    "# Set the values for start_date and end_date using the pd.Timestamp function\n",
    "# The start and end data should be 2019-05-01 to 2020-05-01\n",
    "# Set the parameter tz to \"America/New_York\", \n",
    "# Set this all to the ISO format by calling the isoformat function \n",
    "start_date = pd.Timestamp(\"2019-05-01\", tz=\"America/New_York\").isoformat()\n",
    "end_date = pd.Timestamp(\"2020-05-01\", tz=\"America/New_York\").isoformat()\n"
   ]
  },
  {
   "cell_type": "code",
   "execution_count": 9,
   "metadata": {},
   "outputs": [],
   "source": [
    "# Set timeframe to one day (1D)\n",
    "timeframe = \"1D\"\n",
    "\n",
    "# Set number of rows to 1000 to retrieve the maximum amount of rows\n",
    "limit_rows = 1000"
   ]
  },
  {
   "cell_type": "code",
   "execution_count": 11,
   "metadata": {},
   "outputs": [
    {
     "data": {
      "text/html": [
       "<div>\n",
       "<style scoped>\n",
       "    .dataframe tbody tr th:only-of-type {\n",
       "        vertical-align: middle;\n",
       "    }\n",
       "\n",
       "    .dataframe tbody tr th {\n",
       "        vertical-align: top;\n",
       "    }\n",
       "\n",
       "    .dataframe thead tr th {\n",
       "        text-align: left;\n",
       "    }\n",
       "\n",
       "    .dataframe thead tr:last-of-type th {\n",
       "        text-align: right;\n",
       "    }\n",
       "</style>\n",
       "<table border=\"1\" class=\"dataframe\">\n",
       "  <thead>\n",
       "    <tr>\n",
       "      <th></th>\n",
       "      <th colspan=\"5\" halign=\"left\">GS</th>\n",
       "      <th colspan=\"5\" halign=\"left\">SPY</th>\n",
       "      <th colspan=\"5\" halign=\"left\">SQ</th>\n",
       "      <th colspan=\"5\" halign=\"left\">V</th>\n",
       "    </tr>\n",
       "    <tr>\n",
       "      <th></th>\n",
       "      <th>open</th>\n",
       "      <th>high</th>\n",
       "      <th>low</th>\n",
       "      <th>close</th>\n",
       "      <th>volume</th>\n",
       "      <th>open</th>\n",
       "      <th>high</th>\n",
       "      <th>low</th>\n",
       "      <th>close</th>\n",
       "      <th>volume</th>\n",
       "      <th>open</th>\n",
       "      <th>high</th>\n",
       "      <th>low</th>\n",
       "      <th>close</th>\n",
       "      <th>volume</th>\n",
       "      <th>open</th>\n",
       "      <th>high</th>\n",
       "      <th>low</th>\n",
       "      <th>close</th>\n",
       "      <th>volume</th>\n",
       "    </tr>\n",
       "    <tr>\n",
       "      <th>time</th>\n",
       "      <th></th>\n",
       "      <th></th>\n",
       "      <th></th>\n",
       "      <th></th>\n",
       "      <th></th>\n",
       "      <th></th>\n",
       "      <th></th>\n",
       "      <th></th>\n",
       "      <th></th>\n",
       "      <th></th>\n",
       "      <th></th>\n",
       "      <th></th>\n",
       "      <th></th>\n",
       "      <th></th>\n",
       "      <th></th>\n",
       "      <th></th>\n",
       "      <th></th>\n",
       "      <th></th>\n",
       "      <th></th>\n",
       "      <th></th>\n",
       "    </tr>\n",
       "  </thead>\n",
       "  <tbody>\n",
       "    <tr>\n",
       "      <th>2019-05-01 00:00:00-04:00</th>\n",
       "      <td>206.40</td>\n",
       "      <td>208.4086</td>\n",
       "      <td>204.03</td>\n",
       "      <td>204.77</td>\n",
       "      <td>1817087</td>\n",
       "      <td>294.72</td>\n",
       "      <td>294.95</td>\n",
       "      <td>291.80</td>\n",
       "      <td>291.84</td>\n",
       "      <td>59432706</td>\n",
       "      <td>73.95</td>\n",
       "      <td>74.73</td>\n",
       "      <td>73.171</td>\n",
       "      <td>73.67</td>\n",
       "      <td>12270720</td>\n",
       "      <td>165.54</td>\n",
       "      <td>165.74</td>\n",
       "      <td>162.75</td>\n",
       "      <td>162.76</td>\n",
       "      <td>4480865</td>\n",
       "    </tr>\n",
       "    <tr>\n",
       "      <th>2019-05-02 00:00:00-04:00</th>\n",
       "      <td>204.43</td>\n",
       "      <td>206.2200</td>\n",
       "      <td>203.12</td>\n",
       "      <td>205.05</td>\n",
       "      <td>1394726</td>\n",
       "      <td>291.68</td>\n",
       "      <td>292.70</td>\n",
       "      <td>289.52</td>\n",
       "      <td>291.27</td>\n",
       "      <td>59209780</td>\n",
       "      <td>69.80</td>\n",
       "      <td>70.50</td>\n",
       "      <td>66.050</td>\n",
       "      <td>67.73</td>\n",
       "      <td>33369047</td>\n",
       "      <td>162.10</td>\n",
       "      <td>163.08</td>\n",
       "      <td>160.43</td>\n",
       "      <td>161.07</td>\n",
       "      <td>5120897</td>\n",
       "    </tr>\n",
       "    <tr>\n",
       "      <th>2019-05-03 00:00:00-04:00</th>\n",
       "      <td>206.01</td>\n",
       "      <td>208.7500</td>\n",
       "      <td>205.67</td>\n",
       "      <td>207.49</td>\n",
       "      <td>1749672</td>\n",
       "      <td>292.82</td>\n",
       "      <td>294.34</td>\n",
       "      <td>292.56</td>\n",
       "      <td>294.02</td>\n",
       "      <td>45416907</td>\n",
       "      <td>67.91</td>\n",
       "      <td>68.67</td>\n",
       "      <td>66.600</td>\n",
       "      <td>68.52</td>\n",
       "      <td>8847087</td>\n",
       "      <td>162.30</td>\n",
       "      <td>162.74</td>\n",
       "      <td>161.18</td>\n",
       "      <td>162.03</td>\n",
       "      <td>3683567</td>\n",
       "    </tr>\n",
       "    <tr>\n",
       "      <th>2019-05-06 00:00:00-04:00</th>\n",
       "      <td>202.80</td>\n",
       "      <td>206.9800</td>\n",
       "      <td>201.71</td>\n",
       "      <td>206.43</td>\n",
       "      <td>1759564</td>\n",
       "      <td>289.25</td>\n",
       "      <td>293.31</td>\n",
       "      <td>288.90</td>\n",
       "      <td>292.87</td>\n",
       "      <td>75426654</td>\n",
       "      <td>65.46</td>\n",
       "      <td>70.29</td>\n",
       "      <td>65.410</td>\n",
       "      <td>70.21</td>\n",
       "      <td>12633902</td>\n",
       "      <td>158.21</td>\n",
       "      <td>162.65</td>\n",
       "      <td>158.20</td>\n",
       "      <td>162.29</td>\n",
       "      <td>4744821</td>\n",
       "    </tr>\n",
       "    <tr>\n",
       "      <th>2019-05-07 00:00:00-04:00</th>\n",
       "      <td>203.34</td>\n",
       "      <td>204.0000</td>\n",
       "      <td>201.01</td>\n",
       "      <td>202.61</td>\n",
       "      <td>2445134</td>\n",
       "      <td>290.15</td>\n",
       "      <td>290.81</td>\n",
       "      <td>285.81</td>\n",
       "      <td>288.04</td>\n",
       "      <td>118960368</td>\n",
       "      <td>69.98</td>\n",
       "      <td>70.34</td>\n",
       "      <td>67.370</td>\n",
       "      <td>68.41</td>\n",
       "      <td>10006668</td>\n",
       "      <td>160.95</td>\n",
       "      <td>161.78</td>\n",
       "      <td>158.68</td>\n",
       "      <td>160.21</td>\n",
       "      <td>5321621</td>\n",
       "    </tr>\n",
       "  </tbody>\n",
       "</table>\n",
       "</div>"
      ],
      "text/plain": [
       "                               GS                                        SPY  \\\n",
       "                             open      high     low   close   volume    open   \n",
       "time                                                                           \n",
       "2019-05-01 00:00:00-04:00  206.40  208.4086  204.03  204.77  1817087  294.72   \n",
       "2019-05-02 00:00:00-04:00  204.43  206.2200  203.12  205.05  1394726  291.68   \n",
       "2019-05-03 00:00:00-04:00  206.01  208.7500  205.67  207.49  1749672  292.82   \n",
       "2019-05-06 00:00:00-04:00  202.80  206.9800  201.71  206.43  1759564  289.25   \n",
       "2019-05-07 00:00:00-04:00  203.34  204.0000  201.01  202.61  2445134  290.15   \n",
       "\n",
       "                                                                 SQ         \\\n",
       "                             high     low   close     volume   open   high   \n",
       "time                                                                         \n",
       "2019-05-01 00:00:00-04:00  294.95  291.80  291.84   59432706  73.95  74.73   \n",
       "2019-05-02 00:00:00-04:00  292.70  289.52  291.27   59209780  69.80  70.50   \n",
       "2019-05-03 00:00:00-04:00  294.34  292.56  294.02   45416907  67.91  68.67   \n",
       "2019-05-06 00:00:00-04:00  293.31  288.90  292.87   75426654  65.46  70.29   \n",
       "2019-05-07 00:00:00-04:00  290.81  285.81  288.04  118960368  69.98  70.34   \n",
       "\n",
       "                                                         V                  \\\n",
       "                              low  close    volume    open    high     low   \n",
       "time                                                                         \n",
       "2019-05-01 00:00:00-04:00  73.171  73.67  12270720  165.54  165.74  162.75   \n",
       "2019-05-02 00:00:00-04:00  66.050  67.73  33369047  162.10  163.08  160.43   \n",
       "2019-05-03 00:00:00-04:00  66.600  68.52   8847087  162.30  162.74  161.18   \n",
       "2019-05-06 00:00:00-04:00  65.410  70.21  12633902  158.21  162.65  158.20   \n",
       "2019-05-07 00:00:00-04:00  67.370  68.41  10006668  160.95  161.78  158.68   \n",
       "\n",
       "                                            \n",
       "                            close   volume  \n",
       "time                                        \n",
       "2019-05-01 00:00:00-04:00  162.76  4480865  \n",
       "2019-05-02 00:00:00-04:00  161.07  5120897  \n",
       "2019-05-03 00:00:00-04:00  162.03  3683567  \n",
       "2019-05-06 00:00:00-04:00  162.29  4744821  \n",
       "2019-05-07 00:00:00-04:00  160.21  5321621  "
      ]
     },
     "execution_count": 11,
     "metadata": {},
     "output_type": "execute_result"
    }
   ],
   "source": [
    "# Use the Alpaca get_barset function to gather the price information for each ticker\n",
    "# Include the function parameters: tickers, timeframe, start, end, and limit\n",
    "# Be sure to call the df property to ensure that the returned information is set as a DataFrame\n",
    "prices_df = alpaca.get_barset(tickers, timeframe, start = start_date, end = end_date, limit = limit_rows).df\n",
    "\n",
    "# Review the first five rows of the resulting DataFrame \n",
    "# YOUR CODE HERE \n",
    "prices_df.head()"
   ]
  },
  {
   "cell_type": "markdown",
   "metadata": {},
   "source": [
    "## Step 5: Create a new DataFrame that holds the closing prices of each stock.\n",
    "\n",
    "1. Create a `closing_prices_df` DataFrame.\n",
    "2. Using a for-loop, for every `ticker` in the `tickers` list, select the `close` price for each ticker in the `prices_df` Dataframe. That expression will be set equal to  the new `closing_prices_df` for the same `ticker`.\n",
    "3. For the new closing_prices_df DataFrame, keep only the date component (drop the time component).\n",
    "4. View the `closing_prices_df` DataFrame. "
   ]
  },
  {
   "cell_type": "code",
   "execution_count": 13,
   "metadata": {},
   "outputs": [
    {
     "data": {
      "text/html": [
       "<div>\n",
       "<style scoped>\n",
       "    .dataframe tbody tr th:only-of-type {\n",
       "        vertical-align: middle;\n",
       "    }\n",
       "\n",
       "    .dataframe tbody tr th {\n",
       "        vertical-align: top;\n",
       "    }\n",
       "\n",
       "    .dataframe thead th {\n",
       "        text-align: right;\n",
       "    }\n",
       "</style>\n",
       "<table border=\"1\" class=\"dataframe\">\n",
       "  <thead>\n",
       "    <tr style=\"text-align: right;\">\n",
       "      <th></th>\n",
       "      <th>SPY</th>\n",
       "      <th>V</th>\n",
       "      <th>SQ</th>\n",
       "      <th>GS</th>\n",
       "    </tr>\n",
       "  </thead>\n",
       "  <tbody>\n",
       "    <tr>\n",
       "      <th>2019-05-01</th>\n",
       "      <td>291.84</td>\n",
       "      <td>162.76</td>\n",
       "      <td>73.67</td>\n",
       "      <td>204.77</td>\n",
       "    </tr>\n",
       "    <tr>\n",
       "      <th>2019-05-02</th>\n",
       "      <td>291.27</td>\n",
       "      <td>161.07</td>\n",
       "      <td>67.73</td>\n",
       "      <td>205.05</td>\n",
       "    </tr>\n",
       "    <tr>\n",
       "      <th>2019-05-03</th>\n",
       "      <td>294.02</td>\n",
       "      <td>162.03</td>\n",
       "      <td>68.52</td>\n",
       "      <td>207.49</td>\n",
       "    </tr>\n",
       "    <tr>\n",
       "      <th>2019-05-06</th>\n",
       "      <td>292.87</td>\n",
       "      <td>162.29</td>\n",
       "      <td>70.21</td>\n",
       "      <td>206.43</td>\n",
       "    </tr>\n",
       "    <tr>\n",
       "      <th>2019-05-07</th>\n",
       "      <td>288.04</td>\n",
       "      <td>160.21</td>\n",
       "      <td>68.41</td>\n",
       "      <td>202.61</td>\n",
       "    </tr>\n",
       "  </tbody>\n",
       "</table>\n",
       "</div>"
      ],
      "text/plain": [
       "               SPY       V     SQ      GS\n",
       "2019-05-01  291.84  162.76  73.67  204.77\n",
       "2019-05-02  291.27  161.07  67.73  205.05\n",
       "2019-05-03  294.02  162.03  68.52  207.49\n",
       "2019-05-06  292.87  162.29  70.21  206.43\n",
       "2019-05-07  288.04  160.21  68.41  202.61"
      ]
     },
     "metadata": {},
     "output_type": "display_data"
    },
    {
     "data": {
      "text/html": [
       "<div>\n",
       "<style scoped>\n",
       "    .dataframe tbody tr th:only-of-type {\n",
       "        vertical-align: middle;\n",
       "    }\n",
       "\n",
       "    .dataframe tbody tr th {\n",
       "        vertical-align: top;\n",
       "    }\n",
       "\n",
       "    .dataframe thead th {\n",
       "        text-align: right;\n",
       "    }\n",
       "</style>\n",
       "<table border=\"1\" class=\"dataframe\">\n",
       "  <thead>\n",
       "    <tr style=\"text-align: right;\">\n",
       "      <th></th>\n",
       "      <th>SPY</th>\n",
       "      <th>V</th>\n",
       "      <th>SQ</th>\n",
       "      <th>GS</th>\n",
       "    </tr>\n",
       "  </thead>\n",
       "  <tbody>\n",
       "    <tr>\n",
       "      <th>2020-04-27</th>\n",
       "      <td>287.11</td>\n",
       "      <td>171.76</td>\n",
       "      <td>63.64</td>\n",
       "      <td>183.54</td>\n",
       "    </tr>\n",
       "    <tr>\n",
       "      <th>2020-04-28</th>\n",
       "      <td>285.77</td>\n",
       "      <td>171.28</td>\n",
       "      <td>61.74</td>\n",
       "      <td>187.08</td>\n",
       "    </tr>\n",
       "    <tr>\n",
       "      <th>2020-04-29</th>\n",
       "      <td>293.19</td>\n",
       "      <td>181.86</td>\n",
       "      <td>65.75</td>\n",
       "      <td>190.01</td>\n",
       "    </tr>\n",
       "    <tr>\n",
       "      <th>2020-04-30</th>\n",
       "      <td>290.39</td>\n",
       "      <td>178.63</td>\n",
       "      <td>65.11</td>\n",
       "      <td>183.42</td>\n",
       "    </tr>\n",
       "    <tr>\n",
       "      <th>2020-05-01</th>\n",
       "      <td>282.73</td>\n",
       "      <td>175.74</td>\n",
       "      <td>62.97</td>\n",
       "      <td>177.19</td>\n",
       "    </tr>\n",
       "  </tbody>\n",
       "</table>\n",
       "</div>"
      ],
      "text/plain": [
       "               SPY       V     SQ      GS\n",
       "2020-04-27  287.11  171.76  63.64  183.54\n",
       "2020-04-28  285.77  171.28  61.74  187.08\n",
       "2020-04-29  293.19  181.86  65.75  190.01\n",
       "2020-04-30  290.39  178.63  65.11  183.42\n",
       "2020-05-01  282.73  175.74  62.97  177.19"
      ]
     },
     "metadata": {},
     "output_type": "display_data"
    }
   ],
   "source": [
    "# Create an empty DataFrame for holding the closing prices\n",
    "closing_prices_df = pd.DataFrame()\n",
    "\n",
    "# Using a for loop, for every ticker in the tickers list, \n",
    "# Select the close price for each ticker in the prices_df Dataframe\n",
    "# That will be set equal to closing_prices_df for the same ticker value\n",
    "for ticker in tickers:\n",
    "    closing_prices_df[ticker] = prices_df[ticker][\"close\"]\n",
    "\n",
    "# For the new closing_prices_df DataFrame, keep only the date component\n",
    "closing_prices_df.index = closing_prices_df.index.date\n",
    "\n",
    "# View the first and last five rows of the closing_prices_df DataFrame\n",
    "display(closing_prices_df.head())\n",
    "display(closing_prices_df.tail())\n",
    "    "
   ]
  },
  {
   "cell_type": "markdown",
   "metadata": {},
   "source": [
    "## Step 6: Generate a daily returns DataFrame that’s based on the closing prices of each stock."
   ]
  },
  {
   "cell_type": "code",
   "execution_count": 14,
   "metadata": {},
   "outputs": [
    {
     "data": {
      "text/html": [
       "<div>\n",
       "<style scoped>\n",
       "    .dataframe tbody tr th:only-of-type {\n",
       "        vertical-align: middle;\n",
       "    }\n",
       "\n",
       "    .dataframe tbody tr th {\n",
       "        vertical-align: top;\n",
       "    }\n",
       "\n",
       "    .dataframe thead th {\n",
       "        text-align: right;\n",
       "    }\n",
       "</style>\n",
       "<table border=\"1\" class=\"dataframe\">\n",
       "  <thead>\n",
       "    <tr style=\"text-align: right;\">\n",
       "      <th></th>\n",
       "      <th>SPY</th>\n",
       "      <th>V</th>\n",
       "      <th>SQ</th>\n",
       "      <th>GS</th>\n",
       "    </tr>\n",
       "  </thead>\n",
       "  <tbody>\n",
       "    <tr>\n",
       "      <th>2019-05-02</th>\n",
       "      <td>-0.001953</td>\n",
       "      <td>-0.010383</td>\n",
       "      <td>-0.080630</td>\n",
       "      <td>0.001367</td>\n",
       "    </tr>\n",
       "    <tr>\n",
       "      <th>2019-05-03</th>\n",
       "      <td>0.009441</td>\n",
       "      <td>0.005960</td>\n",
       "      <td>0.011664</td>\n",
       "      <td>0.011900</td>\n",
       "    </tr>\n",
       "    <tr>\n",
       "      <th>2019-05-06</th>\n",
       "      <td>-0.003911</td>\n",
       "      <td>0.001605</td>\n",
       "      <td>0.024664</td>\n",
       "      <td>-0.005109</td>\n",
       "    </tr>\n",
       "    <tr>\n",
       "      <th>2019-05-07</th>\n",
       "      <td>-0.016492</td>\n",
       "      <td>-0.012817</td>\n",
       "      <td>-0.025637</td>\n",
       "      <td>-0.018505</td>\n",
       "    </tr>\n",
       "    <tr>\n",
       "      <th>2019-05-08</th>\n",
       "      <td>-0.001666</td>\n",
       "      <td>0.003620</td>\n",
       "      <td>-0.016518</td>\n",
       "      <td>-0.008440</td>\n",
       "    </tr>\n",
       "  </tbody>\n",
       "</table>\n",
       "</div>"
      ],
      "text/plain": [
       "                 SPY         V        SQ        GS\n",
       "2019-05-02 -0.001953 -0.010383 -0.080630  0.001367\n",
       "2019-05-03  0.009441  0.005960  0.011664  0.011900\n",
       "2019-05-06 -0.003911  0.001605  0.024664 -0.005109\n",
       "2019-05-07 -0.016492 -0.012817 -0.025637 -0.018505\n",
       "2019-05-08 -0.001666  0.003620 -0.016518 -0.008440"
      ]
     },
     "metadata": {},
     "output_type": "display_data"
    },
    {
     "data": {
      "text/html": [
       "<div>\n",
       "<style scoped>\n",
       "    .dataframe tbody tr th:only-of-type {\n",
       "        vertical-align: middle;\n",
       "    }\n",
       "\n",
       "    .dataframe tbody tr th {\n",
       "        vertical-align: top;\n",
       "    }\n",
       "\n",
       "    .dataframe thead th {\n",
       "        text-align: right;\n",
       "    }\n",
       "</style>\n",
       "<table border=\"1\" class=\"dataframe\">\n",
       "  <thead>\n",
       "    <tr style=\"text-align: right;\">\n",
       "      <th></th>\n",
       "      <th>SPY</th>\n",
       "      <th>V</th>\n",
       "      <th>SQ</th>\n",
       "      <th>GS</th>\n",
       "    </tr>\n",
       "  </thead>\n",
       "  <tbody>\n",
       "    <tr>\n",
       "      <th>2020-04-27</th>\n",
       "      <td>0.014380</td>\n",
       "      <td>0.026966</td>\n",
       "      <td>0.026866</td>\n",
       "      <td>0.037477</td>\n",
       "    </tr>\n",
       "    <tr>\n",
       "      <th>2020-04-28</th>\n",
       "      <td>-0.004667</td>\n",
       "      <td>-0.002795</td>\n",
       "      <td>-0.029855</td>\n",
       "      <td>0.019287</td>\n",
       "    </tr>\n",
       "    <tr>\n",
       "      <th>2020-04-29</th>\n",
       "      <td>0.025965</td>\n",
       "      <td>0.061770</td>\n",
       "      <td>0.064950</td>\n",
       "      <td>0.015662</td>\n",
       "    </tr>\n",
       "    <tr>\n",
       "      <th>2020-04-30</th>\n",
       "      <td>-0.009550</td>\n",
       "      <td>-0.017761</td>\n",
       "      <td>-0.009734</td>\n",
       "      <td>-0.034682</td>\n",
       "    </tr>\n",
       "    <tr>\n",
       "      <th>2020-05-01</th>\n",
       "      <td>-0.026378</td>\n",
       "      <td>-0.016179</td>\n",
       "      <td>-0.032867</td>\n",
       "      <td>-0.033966</td>\n",
       "    </tr>\n",
       "  </tbody>\n",
       "</table>\n",
       "</div>"
      ],
      "text/plain": [
       "                 SPY         V        SQ        GS\n",
       "2020-04-27  0.014380  0.026966  0.026866  0.037477\n",
       "2020-04-28 -0.004667 -0.002795 -0.029855  0.019287\n",
       "2020-04-29  0.025965  0.061770  0.064950  0.015662\n",
       "2020-04-30 -0.009550 -0.017761 -0.009734 -0.034682\n",
       "2020-05-01 -0.026378 -0.016179 -0.032867 -0.033966"
      ]
     },
     "metadata": {},
     "output_type": "display_data"
    }
   ],
   "source": [
    "# Compute daily returns of the closing_prices_df DataFrame using the pct_change function \n",
    "# Be sure to drop the first row of NaN values\n",
    "daily_returns_df = closing_prices_df.pct_change().dropna()\n",
    "\n",
    "# Review the first and last five rows of the daily_returns_df DataFrame\n",
    "display(daily_returns_df.head())\n",
    "display(daily_returns_df.tail())\n"
   ]
  },
  {
   "cell_type": "markdown",
   "metadata": {},
   "source": [
    "## Step 7: Generate the summary statistics for the daily returns DataFrame. This provides your first review of the distribution information for your stocks."
   ]
  },
  {
   "cell_type": "code",
   "execution_count": 15,
   "metadata": {},
   "outputs": [
    {
     "data": {
      "text/html": [
       "<div>\n",
       "<style scoped>\n",
       "    .dataframe tbody tr th:only-of-type {\n",
       "        vertical-align: middle;\n",
       "    }\n",
       "\n",
       "    .dataframe tbody tr th {\n",
       "        vertical-align: top;\n",
       "    }\n",
       "\n",
       "    .dataframe thead th {\n",
       "        text-align: right;\n",
       "    }\n",
       "</style>\n",
       "<table border=\"1\" class=\"dataframe\">\n",
       "  <thead>\n",
       "    <tr style=\"text-align: right;\">\n",
       "      <th></th>\n",
       "      <th>SPY</th>\n",
       "      <th>V</th>\n",
       "      <th>SQ</th>\n",
       "      <th>GS</th>\n",
       "    </tr>\n",
       "  </thead>\n",
       "  <tbody>\n",
       "    <tr>\n",
       "      <th>count</th>\n",
       "      <td>253.000000</td>\n",
       "      <td>253.000000</td>\n",
       "      <td>253.000000</td>\n",
       "      <td>253.000000</td>\n",
       "    </tr>\n",
       "    <tr>\n",
       "      <th>mean</th>\n",
       "      <td>0.000082</td>\n",
       "      <td>0.000623</td>\n",
       "      <td>0.000242</td>\n",
       "      <td>-0.000155</td>\n",
       "    </tr>\n",
       "    <tr>\n",
       "      <th>std</th>\n",
       "      <td>0.020317</td>\n",
       "      <td>0.025333</td>\n",
       "      <td>0.040691</td>\n",
       "      <td>0.028919</td>\n",
       "    </tr>\n",
       "    <tr>\n",
       "      <th>min</th>\n",
       "      <td>-0.116340</td>\n",
       "      <td>-0.136139</td>\n",
       "      <td>-0.286777</td>\n",
       "      <td>-0.128438</td>\n",
       "    </tr>\n",
       "    <tr>\n",
       "      <th>25%</th>\n",
       "      <td>-0.004667</td>\n",
       "      <td>-0.007698</td>\n",
       "      <td>-0.016097</td>\n",
       "      <td>-0.008981</td>\n",
       "    </tr>\n",
       "    <tr>\n",
       "      <th>50%</th>\n",
       "      <td>0.000532</td>\n",
       "      <td>0.001703</td>\n",
       "      <td>0.002386</td>\n",
       "      <td>0.000560</td>\n",
       "    </tr>\n",
       "    <tr>\n",
       "      <th>75%</th>\n",
       "      <td>0.006847</td>\n",
       "      <td>0.009349</td>\n",
       "      <td>0.016741</td>\n",
       "      <td>0.011532</td>\n",
       "    </tr>\n",
       "    <tr>\n",
       "      <th>max</th>\n",
       "      <td>0.094737</td>\n",
       "      <td>0.133618</td>\n",
       "      <td>0.158710</td>\n",
       "      <td>0.177595</td>\n",
       "    </tr>\n",
       "  </tbody>\n",
       "</table>\n",
       "</div>"
      ],
      "text/plain": [
       "              SPY           V          SQ          GS\n",
       "count  253.000000  253.000000  253.000000  253.000000\n",
       "mean     0.000082    0.000623    0.000242   -0.000155\n",
       "std      0.020317    0.025333    0.040691    0.028919\n",
       "min     -0.116340   -0.136139   -0.286777   -0.128438\n",
       "25%     -0.004667   -0.007698   -0.016097   -0.008981\n",
       "50%      0.000532    0.001703    0.002386    0.000560\n",
       "75%      0.006847    0.009349    0.016741    0.011532\n",
       "max      0.094737    0.133618    0.158710    0.177595"
      ]
     },
     "execution_count": 15,
     "metadata": {},
     "output_type": "execute_result"
    }
   ],
   "source": [
    "# Using the Pandas describe function, generate summary statistics\n",
    "# for each of the tickers in the daily_returns_df DataFrame\n",
    "# YOUR CODE HERE \n",
    "daily_returns_df.describe()"
   ]
  },
  {
   "cell_type": "markdown",
   "metadata": {},
   "source": [
    "## Step 8: Visualize the distribution of the daily returns DataFrame by creating a histogram plot and a density plot."
   ]
  },
  {
   "cell_type": "code",
   "execution_count": 16,
   "metadata": {},
   "outputs": [
    {
     "data": {
      "text/plain": [
       "<AxesSubplot:title={'center':'Daily returns hist'}, ylabel='Frequency'>"
      ]
     },
     "execution_count": 16,
     "metadata": {},
     "output_type": "execute_result"
    },
    {
     "data": {
      "image/png": "[encoded data removed]",
      "text/plain": [
       "<Figure size 720x504 with 1 Axes>"
      ]
     },
     "metadata": {
      "needs_background": "light"
     },
     "output_type": "display_data"
    }
   ],
   "source": [
    "# Visualize the distribution of daily returns across all stocks using a histogram plot\n",
    "# Give the plot a title and adjust the figure size\n",
    "# YOUR CODE HERE \n",
    "\n",
    "daily_returns_df.plot.hist(figsize=(10,7), title=\"Daily returns hist\")"
   ]
  },
  {
   "cell_type": "code",
   "execution_count": 17,
   "metadata": {},
   "outputs": [
    {
     "data": {
      "text/plain": [
       "<AxesSubplot:title={'center':'Daily returns density'}, ylabel='Density'>"
      ]
     },
     "execution_count": 17,
     "metadata": {},
     "output_type": "execute_result"
    },
    {
     "data": {
      "image/png": "[encoded data removed]",
      "text/plain": [
       "<Figure size 1800x504 with 1 Axes>"
      ]
     },
     "metadata": {
      "needs_background": "light"
     },
     "output_type": "display_data"
    }
   ],
   "source": [
    "# Visualize the distribution of daily returns across all stocks using a density plot\n",
    "# Give the plot a title and adjust the figure size \n",
    "# YOUR CODE HERE \n",
    "daily_returns_df.plot.density(figsize=(25,7), title=\"Daily returns density\")"
   ]
  },
  {
   "cell_type": "markdown",
   "metadata": {},
   "source": [
    "## Step 9: Answer the following question. "
   ]
  },
  {
   "cell_type": "markdown",
   "metadata": {},
   "source": [
    "**Question** Which is the least volatile stock in the group? Which is the most volatile?\n",
    "    \n",
    "**Answer** # SQ - more volatile, SPY least volatile"
   ]
  },
  {
   "cell_type": "markdown",
   "metadata": {},
   "source": [
    "## Step 10: With a 95% confidence level, calculate the downside and upside performance expectations for both SPY and V based on the mean and standard deviation values."
   ]
  },
  {
   "cell_type": "code",
   "execution_count": 21,
   "metadata": {},
   "outputs": [
    {
     "name": "stdout",
     "output_type": "stream",
     "text": [
      "Using a 95% confidence interval, the SPDR S&P 500 ETF Trust could trade down as much as -3.9739%, and up as much as  3.9903%.\n"
     ]
    }
   ],
   "source": [
    "# Based on the daily return summary statistics, access the mean and standard deviation \n",
    "# values for the SPDR S&P 500 ETF Trust (ticker: SPY)\n",
    "# Calculate the upside and downside performance expectations using a 95% confidence interval.\n",
    "# The z-score associated with a 95% confidence interval is 1.96.\n",
    "\n",
    "# Calculate the downside performance expectation:\n",
    "# downside performane = mean - (z-score * standard deviation)\n",
    "downside_SPY = 0.000082 - (1.96 * 0.020317)\n",
    "\n",
    "# Calculate the upside performance expectation:\n",
    "# upside performane = mean + (z-score * standard deviation)\n",
    "upside_SPY = 0.000082 + (1.96 * 0.020317) \n",
    "\n",
    "# Print the expected range of SPY's performance\n",
    "# YOUR CODE HERE \n",
    "print(f\"Using a 95% confidence interval, \"\n",
    "      f\"the SPDR S&P 500 ETF Trust could trade down as much as {(downside_SPY * 100): .4f}%, \"\n",
    "      f\"and up as much as {(upside_SPY * 100): .4f}%.\")"
   ]
  },
  {
   "cell_type": "code",
   "execution_count": 22,
   "metadata": {},
   "outputs": [
    {
     "name": "stdout",
     "output_type": "stream",
     "text": [
      "Using a 95% confidence interval, Visa could trade down as much as -4.9030%,  and up as much as  5.0276%.\n"
     ]
    }
   ],
   "source": [
    "# Based on the daily return summary statistics, access the mean and standard deviation\n",
    "# values for stock Visa (ticker: V)\n",
    "# Calculate the upside and downside performance expectations using a 95% confidence interval\n",
    "# The z-score associated with a 95% confidence interval is 1.96\n",
    "\n",
    "# Calculate the downside performance expectation:\n",
    "# downside performane = mean - (z-score * standard deviation)\n",
    "downside_V = 0.000623 - (1.96 * 0.025333)\n",
    "\n",
    "# Calculate the upside performance expectation:\n",
    "# upside performane = mean + (z-score * standard deviation)\n",
    "upside_V = 0.000623 + (1.96 * 0.025333)\n",
    "\n",
    "# Print the expected range of Visa's performance\n",
    "print(f\"Using a 95% confidence interval, \"\n",
    "      f\"Visa could trade down as much as {(downside_V * 100): .4f}%, \"\n",
    "      f\" and up as much as {(upside_V * 100): .4f}%.\")"
   ]
  },
  {
   "cell_type": "markdown",
   "metadata": {},
   "source": [
    "## Step 11: With a 99% level of confidence, calculate the downside and upside performance expectations for both SQ and GS based on the mean and standard deviation values. "
   ]
  },
  {
   "cell_type": "code",
   "execution_count": 23,
   "metadata": {},
   "outputs": [
    {
     "name": "stdout",
     "output_type": "stream",
     "text": [
      "Using a 99% confidence interval, Square, Inc. could trade down as much as -10.4578%, and up as much as  10.5062%.\n"
     ]
    }
   ],
   "source": [
    "# Based on the daily return summary statistics, access the mean and standard deviation \n",
    "# values for Square, Inc. (ticker: SQ). \n",
    "# Calculate the upside and downside performance expectations using a 99% confidence interval.\n",
    "# The z-score associated with a 99% confidence interval is 2.576.\n",
    "downside_SQ = 0.000242 - (2.576 * 0.040691)\n",
    "\n",
    "# Calculate the upside performance expectation:\n",
    "# upside performane = mean + (z-score * standard deviation)\n",
    "upside_SQ = 0.000242 + (2.576 * 0.040691)\n",
    "\n",
    "# Print the expected range of Square, Inc's performance.\n",
    "print(f\"Using a 99% confidence interval, \"\n",
    "      f\"Square, Inc. could trade down as much as {(downside_SQ * 100): .4f}%, \"\n",
    "      f\"and up as much as {(upside_SQ * 100): .4f}%.\")"
   ]
  },
  {
   "cell_type": "code",
   "execution_count": 24,
   "metadata": {},
   "outputs": [
    {
     "name": "stdout",
     "output_type": "stream",
     "text": [
      "Using a 99% confidence interval, Goldman Sachs could trade down as much as -7.4650%, and up as much as  7.4340%.\n"
     ]
    }
   ],
   "source": [
    "# Based on the daily return summary statistics, access the mean and standard deviation \n",
    "# values for Goldman Sachs (ticker: GS). \n",
    "# Calculate the upside and downside performance expectations using a 99% confidence interval.\n",
    "# The z-score associated with a 99% confidence interval is 2.576.\n",
    "\n",
    "# Calculate the downside performance expectation:\n",
    "# downside performane = mean - (z-score * standard deviation)\n",
    "downside_GS = -0.000155 - (2.576 * 0.028919)\n",
    "\n",
    "# Calculate the upside performance expectation:\n",
    "# upside performane = mean + (z-score * standard deviation)\n",
    "upside_GS = -0.000155 + (2.576 * 0.028919)\n",
    "\n",
    "# Print the expected range of Goldman Sach's performance.\n",
    "print(f\"Using a 99% confidence interval, \"\n",
    "      f\"Goldman Sachs could trade down as much as {(downside_GS * 100): .4f}%, \"\n",
    "      f\"and up as much as {(upside_GS * 100): .4f}%.\")"
   ]
  },
  {
   "cell_type": "markdown",
   "metadata": {},
   "source": [
    "## Step 12: Identify the lower and upper performance bounds for the start of each tail for SPY and SQ stocks. Note that the tail risk occurs when the performance measures outside the 99.7% confidence interval."
   ]
  },
  {
   "cell_type": "code",
   "execution_count": 25,
   "metadata": {},
   "outputs": [
    {
     "name": "stdout",
     "output_type": "stream",
     "text": [
      "There is a probability of 0.15% that the SPDR S&P 500 ETF Trust could trade down more than -6.0869%, or that it could trade up more than  6.1033%.\n"
     ]
    }
   ],
   "source": [
    "# Based on the daily return summary statistics, access the mean \n",
    "# and standard deviation values for the SPDR S&P 500 ETF Trust (ticker: SPY)\n",
    "# Identify the lower and upper bounds associated with the tail risk measures\n",
    "# The tail risk occurs when performance measures outside \n",
    "# of the 99.7% confidence interval, or a z-score of 3\n",
    "\n",
    "# Calculate the downside performance expectation:\n",
    "# downside performane = mean - (z-score * standard deviation)\n",
    "downside_tail_SPY = 0.000082 - (3 * 0.020317 )\n",
    "\n",
    "# Calculate the upside performance expectation:\n",
    "# upside performane = mean + (z-score * standard deviation)\n",
    "upside_tail_SPY = 0.000082 + (3 * 0.020317 )\n",
    "\n",
    "# Print the expected range of the SPY's performance\n",
    "print(f\"There is a probability of 0.15% \"\n",
    "      f\"that the SPDR S&P 500 ETF Trust could trade down more than {(downside_tail_SPY * 100): .4f}%, \"\n",
    "      f\"or that it could trade up more than {(upside_tail_SPY * 100): .4f}%.\") "
   ]
  },
  {
   "cell_type": "code",
   "execution_count": 27,
   "metadata": {},
   "outputs": [
    {
     "name": "stdout",
     "output_type": "stream",
     "text": [
      "There is a probability of 0.15% that the Square, Inc. could trade down more than -12.1831%, or that it could trade up more than 12.231499999999999%.\n"
     ]
    }
   ],
   "source": [
    "# Based on the daily return summary statistics, access the mean \n",
    "# and standard deviation values for Square, Inc. (ticker: SQ). \n",
    "# Identify the lower and upper bounds associated with the tail risk measures. \n",
    "# The tail risk occurs when performance measures outside \n",
    "# of the 99.7% confidence interval, or a z-score of 3 \n",
    "\n",
    "# Calculate the downside performance expectation:\n",
    "# downside performane = mean - (z-score * standard deviation)\n",
    "downside_tail_SQ = 0.000242 - (3 * 0.040691)\n",
    "\n",
    "# Calculate the upside performance expectation:\n",
    "# upside performane = mean + (z-score * standard deviation)\n",
    "upside_tail_SQ = 0.000242 +  (3 * 0.040691)\n",
    "\n",
    "# Print the expected range of the Square Inc's performance\n",
    "print(f\"There is a probability of 0.15% \"\n",
    "      f\"that the Square, Inc. could trade down more than {(downside_tail_SQ * 100): .4f}%, \"\n",
    "      f\"or that it could trade up more than {(upside_tail_SQ * 100)}%.\")"
   ]
  },
  {
   "cell_type": "code",
   "execution_count": null,
   "metadata": {},
   "outputs": [],
   "source": []
  }
 ],
 "metadata": {
  "kernel_info": {
   "name": "python3"
  },
  "kernelspec": {
   "display_name": "Python (dev)",
   "language": "python",
   "name": "dev"
  },
  "language_info": {
   "codemirror_mode": {
    "name": "ipython",
    "version": 3
   },
   "file_extension": ".py",
   "mimetype": "text/x-python",
   "name": "python",
   "nbconvert_exporter": "python",
   "pygments_lexer": "ipython3",
   "version": "3.7.10"
  },
  "nteract": {
   "version": "0.12.3"
  }
 },
 "nbformat": 4,
 "nbformat_minor": 4
}
