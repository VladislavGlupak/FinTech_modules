{
 "cells": [
  {
   "cell_type": "code",
   "execution_count": 1,
   "id": "b1cc0804-8004-4089-b97b-4ac21ba0ec29",
   "metadata": {},
   "outputs": [],
   "source": [
    "import pandas as pd\n",
    "import numpy as np\n",
    "from pathlib import Path\n",
    "\n",
    "%matplotlib inline"
   ]
  },
  {
   "cell_type": "code",
   "execution_count": 2,
   "id": "6cf2503e-cebe-4115-9195-282ff2d0a676",
   "metadata": {},
   "outputs": [],
   "source": [
    "portfolio_a = pd.read_csv(\n",
    "    Path(\"amzn_sp500_data.csv\"),\n",
    "    index_col=\"date\",\n",
    "    parse_dates=True,\n",
    "    infer_datetime_format=True\n",
    ")"
   ]
  },
  {
   "cell_type": "code",
   "execution_count": 5,
   "id": "7ab0d66e-2b4a-4f9f-86f6-9f4fe1b8ac08",
   "metadata": {},
   "outputs": [
    {
     "data": {
      "text/html": [
       "<div>\n",
       "<style scoped>\n",
       "    .dataframe tbody tr th:only-of-type {\n",
       "        vertical-align: middle;\n",
       "    }\n",
       "\n",
       "    .dataframe tbody tr th {\n",
       "        vertical-align: top;\n",
       "    }\n",
       "\n",
       "    .dataframe thead th {\n",
       "        text-align: right;\n",
       "    }\n",
       "</style>\n",
       "<table border=\"1\" class=\"dataframe\">\n",
       "  <thead>\n",
       "    <tr style=\"text-align: right;\">\n",
       "      <th></th>\n",
       "      <th>AMZN</th>\n",
       "      <th>S&amp;P 500</th>\n",
       "    </tr>\n",
       "    <tr>\n",
       "      <th>date</th>\n",
       "      <th></th>\n",
       "      <th></th>\n",
       "    </tr>\n",
       "  </thead>\n",
       "  <tbody>\n",
       "    <tr>\n",
       "      <th>2014-05-21</th>\n",
       "      <td>0.012683</td>\n",
       "      <td>0.008116</td>\n",
       "    </tr>\n",
       "    <tr>\n",
       "      <th>2014-05-22</th>\n",
       "      <td>-0.000328</td>\n",
       "      <td>0.002362</td>\n",
       "    </tr>\n",
       "    <tr>\n",
       "      <th>2014-05-23</th>\n",
       "      <td>0.024040</td>\n",
       "      <td>0.004248</td>\n",
       "    </tr>\n",
       "    <tr>\n",
       "      <th>2014-05-27</th>\n",
       "      <td>-0.004548</td>\n",
       "      <td>0.005988</td>\n",
       "    </tr>\n",
       "    <tr>\n",
       "      <th>2014-05-28</th>\n",
       "      <td>-0.002123</td>\n",
       "      <td>-0.001114</td>\n",
       "    </tr>\n",
       "  </tbody>\n",
       "</table>\n",
       "</div>"
      ],
      "text/plain": [
       "                AMZN   S&P 500\n",
       "date                          \n",
       "2014-05-21  0.012683  0.008116\n",
       "2014-05-22 -0.000328  0.002362\n",
       "2014-05-23  0.024040  0.004248\n",
       "2014-05-27 -0.004548  0.005988\n",
       "2014-05-28 -0.002123 -0.001114"
      ]
     },
     "execution_count": 5,
     "metadata": {},
     "output_type": "execute_result"
    }
   ],
   "source": [
    "daily_returns = portfolio_a.pct_change().dropna()\n",
    "daily_returns.head()"
   ]
  },
  {
   "cell_type": "code",
   "execution_count": 6,
   "id": "5808157a-d6da-421b-818a-fadd6533eef4",
   "metadata": {},
   "outputs": [
    {
     "data": {
      "text/plain": [
       "AMZN       0.000363\n",
       "S&P 500    0.000070\n",
       "dtype: float64"
      ]
     },
     "execution_count": 6,
     "metadata": {},
     "output_type": "execute_result"
    }
   ],
   "source": [
    "daily_returns.var()"
   ]
  },
  {
   "cell_type": "code",
   "execution_count": 7,
   "id": "156bbdca-040a-416d-8fcc-aa3889b9aadd",
   "metadata": {},
   "outputs": [],
   "source": [
    "covariance = daily_returns[\"AMZN\"].cov(daily_returns[\"S&P 500\"])"
   ]
  },
  {
   "cell_type": "code",
   "execution_count": 10,
   "id": "fa6f4379-d522-435a-891f-378723ad0240",
   "metadata": {},
   "outputs": [
    {
     "name": "stdout",
     "output_type": "stream",
     "text": [
      " 0.00009344\n"
     ]
    }
   ],
   "source": [
    "print(f\"{covariance: .8f}\")"
   ]
  },
  {
   "cell_type": "code",
   "execution_count": 12,
   "id": "e99da5c9-25ac-45b7-97a5-4cde219421af",
   "metadata": {},
   "outputs": [
    {
     "data": {
      "text/plain": [
       "1.3290230173974698"
      ]
     },
     "execution_count": 12,
     "metadata": {},
     "output_type": "execute_result"
    }
   ],
   "source": [
    "amzn_beta = daily_returns[\"AMZN\"].cov(daily_returns[\"S&P 500\"]) / daily_returns[\"S&P 500\"].var()\n",
    "\n",
    "# Display the AMZN beta\n",
    "amzn_beta"
   ]
  },
  {
   "cell_type": "code",
   "execution_count": null,
   "id": "95694a2d-31c3-41e4-959e-557be349585b",
   "metadata": {},
   "outputs": [],
   "source": []
  }
 ],
 "metadata": {
  "kernelspec": {
   "display_name": "Python (dev)",
   "language": "python",
   "name": "dev"
  },
  "language_info": {
   "codemirror_mode": {
    "name": "ipython",
    "version": 3
   },
   "file_extension": ".py",
   "mimetype": "text/x-python",
   "name": "python",
   "nbconvert_exporter": "python",
   "pygments_lexer": "ipython3",
   "version": "3.7.10"
  }
 },
 "nbformat": 4,
 "nbformat_minor": 5
}
