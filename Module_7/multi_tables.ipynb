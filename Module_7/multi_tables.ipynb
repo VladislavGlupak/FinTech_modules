{
 "cells": [
  {
   "cell_type": "code",
   "execution_count": 4,
   "id": "9908d3de-0820-4f2d-8860-9f558d7765aa",
   "metadata": {},
   "outputs": [],
   "source": [
    "import pandas as pd\n",
    "import numpy as np\n",
    "import sqlalchemy\n",
    "\n",
    "\n",
    "# Create a temporary sqlite database\n",
    "database_connection_string = 'sqlite:///'\n",
    "\n",
    "# Create an engine to interact with the database\n",
    "engine = sqlalchemy.create_engine(database_connection_string)"
   ]
  },
  {
   "cell_type": "code",
   "execution_count": null,
   "id": "9eb612ae-f147-415a-90b7-8e0a343d5b3a",
   "metadata": {},
   "outputs": [],
   "source": [
    "bank_dataframe.to_sql('banks', engine, index=False, if_exists='replace')\n",
    "customer_dataframe.to_sql('customers', engine, index=False, if_exists='replace')\n",
    "\n",
    "engine.table_names()"
   ]
  },
  {
   "cell_type": "code",
   "execution_count": null,
   "id": "5985ab3f-4db3-413b-892c-998a5cf83ed7",
   "metadata": {},
   "outputs": [],
   "source": [
    "query = \"\"\"\n",
    "SELECT *\n",
    "FROM banks\n",
    "JOIN customers ON banks.bank_id = customers.bank_id;\n",
    "\"\"\"\n",
    "\n",
    "joined_df = pd.read_sql_query(query, con=engine)\n",
    "display(joined_df.head(10))\n",
    "display(joined_df.tail(10))"
   ]
  },
  {
   "cell_type": "code",
   "execution_count": null,
   "id": "9724017a-62f1-47d3-92f6-f09d3b33fd2e",
   "metadata": {},
   "outputs": [],
   "source": [
    "query = \"\"\"\n",
    "SELECT *\n",
    "FROM banks\n",
    "LEFT JOIN customers ON banks.bank_id = customers.bank_id;\n",
    "\"\"\"\n",
    "\n",
    "left_join_df = pd.read_sql_query(query, con=engine)\n",
    "display(left_join_df.head(10))\n",
    "display(left_join_df.tail(10))"
   ]
  },
  {
   "cell_type": "code",
   "execution_count": null,
   "id": "2ef4aa94-09d7-41eb-b19a-19fe0bb8864d",
   "metadata": {},
   "outputs": [],
   "source": [
    "query = \"\"\"\n",
    "SELECT *\n",
    "FROM banks\n",
    "JOIN customers ON banks.bank_id = customers.bank_id\n",
    "WHERE banks.bank_default_currency = customers.default_currency;\n",
    "\"\"\"\n",
    "\n",
    "join_where_df = pd.read_sql_query(query, con=engine)\n",
    "display(join_where_df.head())\n",
    "display(join_where_df.tail())"
   ]
  }
 ],
 "metadata": {
  "kernelspec": {
   "display_name": "Python (dev)",
   "language": "python",
   "name": "dev"
  },
  "language_info": {
   "codemirror_mode": {
    "name": "ipython",
    "version": 3
   },
   "file_extension": ".py",
   "mimetype": "text/x-python",
   "name": "python",
   "nbconvert_exporter": "python",
   "pygments_lexer": "ipython3",
   "version": "3.7.10"
  }
 },
 "nbformat": 4,
 "nbformat_minor": 5
}
