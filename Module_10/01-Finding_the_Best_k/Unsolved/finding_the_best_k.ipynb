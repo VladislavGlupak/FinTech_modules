{
 "cells": [
  {
   "cell_type": "markdown",
   "metadata": {},
   "source": [
    "# Finding the Best k\n",
    "\n",
    "In this activity, you’ll apply the elbow method to iteratively run the K-means algorithm and find the optimal number of clusters, or value for `k`.\n",
    "\n",
    "Instructions\n",
    "\n",
    "1. Read in  the `option_trades.csv` file from the Resources folder and create a DataFrame. Use the “date” column to create the DateTime Index. Be sure to include parameters for `parse_dates` and `infer_datetime_format`. \n",
    "\n",
    "    > **Note** The option data that’s provided for this activity contains the prices of options, measured every four hours, on various stock options on the S&P 500. These stock options differ by various characteristics, including the time to expiration.\n",
    "\n",
    "2. Create two lists: one for the range of lowercase-k values (from 1 to 11) to analyze and another to hold the list of inertia scores.\n",
    "\n",
    "3. For each instance of k, define and fit a K-means model, and append the model’s inertia to the empty inertia list that you created in Step 2.\n",
    "\n",
    "4. Store the values for lowercase-k and the inertia lists in a DataFrame called `df_elbow_data`.\n",
    "\n",
    "5. Using hvPlot, plot the `df_elbow_data` DataFrame to visualize the elbow curve. Be sure to style and format your plot. \n",
    "\n",
    "6. Answer the following question: Considering the plot, what’s the best number of clusters to choose, or value of k?\n",
    "\n",
    "References\n",
    "\n",
    "[scikit-learn Python Library](https://scikit-learn.org)\n",
    "\n",
    "[scikit-learn ML Algorithms](https://scikit-learn.org/stable/user_guide.html)\n",
    "\n",
    "[scikit-learn K-means](https://scikit-learn.org/stable/modules/clustering.html#k-means)\n",
    "\n",
    "\n"
   ]
  },
  {
   "cell_type": "code",
   "execution_count": 6,
   "metadata": {},
   "outputs": [],
   "source": [
    "# Import the required libraries and dependencies\n",
    "# Import the required libraries and dependencies\n",
    "import pandas as pd\n",
    "import hvplot.pandas\n",
    "from path import Path\n",
    "from sklearn.cluster import KMeans"
   ]
  },
  {
   "cell_type": "markdown",
   "metadata": {},
   "source": [
    "## Step 1: Read in  the `option_trades.csv` file from the Resources folder and create a DataFrame. Use the “date” column to create the DateTime Index. Be sure to include parameters for `parse_dates` and `infer_datetime_format`. "
   ]
  },
  {
   "cell_type": "code",
   "execution_count": 7,
   "metadata": {},
   "outputs": [
    {
     "data": {
      "text/html": [
       "<div>\n",
       "<style scoped>\n",
       "    .dataframe tbody tr th:only-of-type {\n",
       "        vertical-align: middle;\n",
       "    }\n",
       "\n",
       "    .dataframe tbody tr th {\n",
       "        vertical-align: top;\n",
       "    }\n",
       "\n",
       "    .dataframe thead th {\n",
       "        text-align: right;\n",
       "    }\n",
       "</style>\n",
       "<table border=\"1\" class=\"dataframe\">\n",
       "  <thead>\n",
       "    <tr style=\"text-align: right;\">\n",
       "      <th></th>\n",
       "      <th>0</th>\n",
       "      <th>1</th>\n",
       "      <th>2</th>\n",
       "      <th>3</th>\n",
       "      <th>4</th>\n",
       "      <th>5</th>\n",
       "      <th>6</th>\n",
       "      <th>7</th>\n",
       "      <th>8</th>\n",
       "      <th>9</th>\n",
       "      <th>...</th>\n",
       "      <th>32</th>\n",
       "      <th>33</th>\n",
       "      <th>34</th>\n",
       "      <th>35</th>\n",
       "      <th>36</th>\n",
       "      <th>37</th>\n",
       "      <th>38</th>\n",
       "      <th>39</th>\n",
       "      <th>40</th>\n",
       "      <th>41</th>\n",
       "    </tr>\n",
       "    <tr>\n",
       "      <th>date</th>\n",
       "      <th></th>\n",
       "      <th></th>\n",
       "      <th></th>\n",
       "      <th></th>\n",
       "      <th></th>\n",
       "      <th></th>\n",
       "      <th></th>\n",
       "      <th></th>\n",
       "      <th></th>\n",
       "      <th></th>\n",
       "      <th></th>\n",
       "      <th></th>\n",
       "      <th></th>\n",
       "      <th></th>\n",
       "      <th></th>\n",
       "      <th></th>\n",
       "      <th></th>\n",
       "      <th></th>\n",
       "      <th></th>\n",
       "      <th></th>\n",
       "      <th></th>\n",
       "    </tr>\n",
       "  </thead>\n",
       "  <tbody>\n",
       "    <tr>\n",
       "      <th>2020-08-04 08:30:00</th>\n",
       "      <td>195.631965</td>\n",
       "      <td>210.025058</td>\n",
       "      <td>202.829513</td>\n",
       "      <td>221.569809</td>\n",
       "      <td>215.823048</td>\n",
       "      <td>212.112938</td>\n",
       "      <td>197.524908</td>\n",
       "      <td>214.564618</td>\n",
       "      <td>207.460115</td>\n",
       "      <td>209.855990</td>\n",
       "      <td>...</td>\n",
       "      <td>212.817158</td>\n",
       "      <td>201.262083</td>\n",
       "      <td>213.933774</td>\n",
       "      <td>206.132907</td>\n",
       "      <td>219.661568</td>\n",
       "      <td>204.972118</td>\n",
       "      <td>199.161883</td>\n",
       "      <td>194.000531</td>\n",
       "      <td>201.362749</td>\n",
       "      <td>205.688881</td>\n",
       "    </tr>\n",
       "    <tr>\n",
       "      <th>2020-08-04 11:00:00</th>\n",
       "      <td>218.833616</td>\n",
       "      <td>193.663638</td>\n",
       "      <td>182.807302</td>\n",
       "      <td>213.005657</td>\n",
       "      <td>194.657965</td>\n",
       "      <td>216.787274</td>\n",
       "      <td>201.662100</td>\n",
       "      <td>215.953316</td>\n",
       "      <td>201.586270</td>\n",
       "      <td>204.233793</td>\n",
       "      <td>...</td>\n",
       "      <td>218.560756</td>\n",
       "      <td>203.906526</td>\n",
       "      <td>196.645644</td>\n",
       "      <td>189.943663</td>\n",
       "      <td>196.537013</td>\n",
       "      <td>215.602311</td>\n",
       "      <td>217.919553</td>\n",
       "      <td>195.033360</td>\n",
       "      <td>202.346823</td>\n",
       "      <td>209.713289</td>\n",
       "    </tr>\n",
       "    <tr>\n",
       "      <th>2020-08-04 15:00:00</th>\n",
       "      <td>222.549239</td>\n",
       "      <td>200.632362</td>\n",
       "      <td>204.053803</td>\n",
       "      <td>198.749230</td>\n",
       "      <td>193.896719</td>\n",
       "      <td>201.005404</td>\n",
       "      <td>199.516591</td>\n",
       "      <td>209.182859</td>\n",
       "      <td>205.425138</td>\n",
       "      <td>197.457472</td>\n",
       "      <td>...</td>\n",
       "      <td>202.110909</td>\n",
       "      <td>219.896820</td>\n",
       "      <td>189.815097</td>\n",
       "      <td>198.069253</td>\n",
       "      <td>184.975622</td>\n",
       "      <td>198.668261</td>\n",
       "      <td>189.010191</td>\n",
       "      <td>204.879033</td>\n",
       "      <td>185.872788</td>\n",
       "      <td>196.961774</td>\n",
       "    </tr>\n",
       "    <tr>\n",
       "      <th>2020-08-05 08:30:00</th>\n",
       "      <td>177.901221</td>\n",
       "      <td>167.170212</td>\n",
       "      <td>178.674226</td>\n",
       "      <td>180.081992</td>\n",
       "      <td>197.030368</td>\n",
       "      <td>182.861254</td>\n",
       "      <td>182.138259</td>\n",
       "      <td>163.847409</td>\n",
       "      <td>175.976501</td>\n",
       "      <td>170.643134</td>\n",
       "      <td>...</td>\n",
       "      <td>173.560308</td>\n",
       "      <td>165.625163</td>\n",
       "      <td>177.090720</td>\n",
       "      <td>193.282793</td>\n",
       "      <td>187.996491</td>\n",
       "      <td>172.252274</td>\n",
       "      <td>183.706807</td>\n",
       "      <td>191.109464</td>\n",
       "      <td>179.242510</td>\n",
       "      <td>181.603642</td>\n",
       "    </tr>\n",
       "    <tr>\n",
       "      <th>2020-08-05 11:00:00</th>\n",
       "      <td>180.847294</td>\n",
       "      <td>186.696453</td>\n",
       "      <td>184.825757</td>\n",
       "      <td>180.116009</td>\n",
       "      <td>190.997511</td>\n",
       "      <td>177.779359</td>\n",
       "      <td>180.832512</td>\n",
       "      <td>173.574245</td>\n",
       "      <td>174.426271</td>\n",
       "      <td>148.636061</td>\n",
       "      <td>...</td>\n",
       "      <td>185.786780</td>\n",
       "      <td>171.388340</td>\n",
       "      <td>169.806288</td>\n",
       "      <td>168.503200</td>\n",
       "      <td>198.223226</td>\n",
       "      <td>183.767643</td>\n",
       "      <td>183.771038</td>\n",
       "      <td>203.553074</td>\n",
       "      <td>187.438263</td>\n",
       "      <td>155.905713</td>\n",
       "    </tr>\n",
       "  </tbody>\n",
       "</table>\n",
       "<p>5 rows × 42 columns</p>\n",
       "</div>"
      ],
      "text/plain": [
       "                              0           1           2           3  \\\n",
       "date                                                                  \n",
       "2020-08-04 08:30:00  195.631965  210.025058  202.829513  221.569809   \n",
       "2020-08-04 11:00:00  218.833616  193.663638  182.807302  213.005657   \n",
       "2020-08-04 15:00:00  222.549239  200.632362  204.053803  198.749230   \n",
       "2020-08-05 08:30:00  177.901221  167.170212  178.674226  180.081992   \n",
       "2020-08-05 11:00:00  180.847294  186.696453  184.825757  180.116009   \n",
       "\n",
       "                              4           5           6           7  \\\n",
       "date                                                                  \n",
       "2020-08-04 08:30:00  215.823048  212.112938  197.524908  214.564618   \n",
       "2020-08-04 11:00:00  194.657965  216.787274  201.662100  215.953316   \n",
       "2020-08-04 15:00:00  193.896719  201.005404  199.516591  209.182859   \n",
       "2020-08-05 08:30:00  197.030368  182.861254  182.138259  163.847409   \n",
       "2020-08-05 11:00:00  190.997511  177.779359  180.832512  173.574245   \n",
       "\n",
       "                              8           9  ...          32          33  \\\n",
       "date                                         ...                           \n",
       "2020-08-04 08:30:00  207.460115  209.855990  ...  212.817158  201.262083   \n",
       "2020-08-04 11:00:00  201.586270  204.233793  ...  218.560756  203.906526   \n",
       "2020-08-04 15:00:00  205.425138  197.457472  ...  202.110909  219.896820   \n",
       "2020-08-05 08:30:00  175.976501  170.643134  ...  173.560308  165.625163   \n",
       "2020-08-05 11:00:00  174.426271  148.636061  ...  185.786780  171.388340   \n",
       "\n",
       "                             34          35          36          37  \\\n",
       "date                                                                  \n",
       "2020-08-04 08:30:00  213.933774  206.132907  219.661568  204.972118   \n",
       "2020-08-04 11:00:00  196.645644  189.943663  196.537013  215.602311   \n",
       "2020-08-04 15:00:00  189.815097  198.069253  184.975622  198.668261   \n",
       "2020-08-05 08:30:00  177.090720  193.282793  187.996491  172.252274   \n",
       "2020-08-05 11:00:00  169.806288  168.503200  198.223226  183.767643   \n",
       "\n",
       "                             38          39          40          41  \n",
       "date                                                                 \n",
       "2020-08-04 08:30:00  199.161883  194.000531  201.362749  205.688881  \n",
       "2020-08-04 11:00:00  217.919553  195.033360  202.346823  209.713289  \n",
       "2020-08-04 15:00:00  189.010191  204.879033  185.872788  196.961774  \n",
       "2020-08-05 08:30:00  183.706807  191.109464  179.242510  181.603642  \n",
       "2020-08-05 11:00:00  183.771038  203.553074  187.438263  155.905713  \n",
       "\n",
       "[5 rows x 42 columns]"
      ]
     },
     "execution_count": 7,
     "metadata": {},
     "output_type": "execute_result"
    }
   ],
   "source": [
    "# Read the CSV file into a Pandas DataFrame\n",
    "# Use the date column to create the DateTime Index\n",
    "df_options = pd.read_csv(\n",
    "    Path(\"../Resources/option_trades.csv\"), \n",
    "    index_col=\"date\", \n",
    "    parse_dates=True, \n",
    "    infer_datetime_format=True\n",
    ")\n",
    "\n",
    "# Review the DataFrame\n",
    "df_options.head()"
   ]
  },
  {
   "cell_type": "markdown",
   "metadata": {},
   "source": [
    "## Step 2: Create two lists: one for the range of lowercase-k values (from 1 to 11) to analyze and another to hold the list of inertia scores."
   ]
  },
  {
   "cell_type": "code",
   "execution_count": 8,
   "metadata": {},
   "outputs": [],
   "source": [
    "# Create a list for the range of k's to analyze in the elbow plot\n",
    "# The range should be 1 to 11. \n",
    "k = list(range(1, 11))\n"
   ]
  },
  {
   "cell_type": "code",
   "execution_count": 13,
   "metadata": {},
   "outputs": [],
   "source": [
    "# Create an empty list to hold inertia scores\n",
    "inertia = []\n"
   ]
  },
  {
   "cell_type": "markdown",
   "metadata": {},
   "source": [
    "## Step 3: For each instance of k, define and fit a K-means model, and append the model’s inertia to the empty inertia list that you just created."
   ]
  },
  {
   "cell_type": "code",
   "execution_count": 14,
   "metadata": {},
   "outputs": [
    {
     "name": "stderr",
     "output_type": "stream",
     "text": [
      "C:\\Users\\vglup\\anaconda3\\envs\\dev\\lib\\site-packages\\sklearn\\cluster\\_kmeans.py:882: UserWarning: KMeans is known to have a memory leak on Windows with MKL, when there are less chunks than available threads. You can avoid it by setting the environment variable OMP_NUM_THREADS=1.\n",
      "  f\"KMeans is known to have a memory leak on Windows \"\n"
     ]
    },
    {
     "data": {
      "text/plain": [
       "[10804651.957374895,\n",
       " 3367798.73477458,\n",
       " 1660546.9227245792,\n",
       " 1247312.157075878,\n",
       " 935906.673877402,\n",
       " 798592.8554840286,\n",
       " 719132.4847767288,\n",
       " 661257.2363072733,\n",
       " 616441.4716543409,\n",
       " 576976.3355050473]"
      ]
     },
     "execution_count": 14,
     "metadata": {},
     "output_type": "execute_result"
    }
   ],
   "source": [
    "# For each k, define and fit a K-means model and append its inertia to the above list\n",
    "for i in k:\n",
    "    model = KMeans(n_clusters=i, random_state=0)\n",
    "    model.fit(df_options)\n",
    "    inertia.append(model.inertia_)\n",
    "    \n",
    "# View the inertia list\n",
    "inertia"
   ]
  },
  {
   "cell_type": "markdown",
   "metadata": {},
   "source": [
    "## Step 4: Store the values for lowercase-k and the inertia lists in a DataFrame called `df_elbow_data`."
   ]
  },
  {
   "cell_type": "code",
   "execution_count": 15,
   "metadata": {},
   "outputs": [],
   "source": [
    "# Create a dictionary with the data to plot the Elbow curve\n",
    "# Create a dictionary with the data to plot the Elbow curve\n",
    "elbow_data = {\n",
    "    \"k\": k,\n",
    "    \"inertia\": inertia\n",
    "}"
   ]
  },
  {
   "cell_type": "code",
   "execution_count": 16,
   "metadata": {},
   "outputs": [],
   "source": [
    "# Create a DataFrame from the dictionary holding the values for k and inertia.\n",
    "df_elbow_data = pd.DataFrame(elbow_data)\n"
   ]
  },
  {
   "cell_type": "markdown",
   "metadata": {},
   "source": [
    "## Step 5:  Using hvPlot, plot the `df_elbow_data` DataFrame to visualize the elbow curve. Be sure to style and format your plot."
   ]
  },
  {
   "cell_type": "code",
   "execution_count": 17,
   "metadata": {},
   "outputs": [
    {
     "data": {},
     "metadata": {},
     "output_type": "display_data"
    },
    {
     "data": {
      "application/vnd.holoviews_exec.v0+json": "",
      "text/html": [
       "<div id='1002'>\n",
       "\n",
       "\n",
       "\n",
       "\n",
       "\n",
       "  <div class=\"bk-root\" id=\"63567447-6729-49c7-bfa6-7b1b140f69e9\" data-root-id=\"1002\"></div>\n",
       "</div>\n",
       "<script type=\"application/javascript\">(function(root) {\n",
       "  function embed_document(root) {\n",
       "    var docs_json = {\"385164c7-a853-44f9-94ce-4821a8574c4b\":{\"defs\":[{\"extends\":null,\"module\":null,\"name\":\"ReactiveHTML1\",\"overrides\":[],\"properties\":[]},{\"extends\":null,\"module\":null,\"name\":\"FlexBox1\",\"overrides\":[],\"properties\":[{\"default\":\"flex-start\",\"kind\":null,\"name\":\"align_content\"},{\"default\":\"flex-start\",\"kind\":null,\"name\":\"align_items\"},{\"default\":\"row\",\"kind\":null,\"name\":\"flex_direction\"},{\"default\":\"wrap\",\"kind\":null,\"name\":\"flex_wrap\"},{\"default\":\"flex-start\",\"kind\":null,\"name\":\"justify_content\"}]},{\"extends\":null,\"module\":null,\"name\":\"TemplateActions1\",\"overrides\":[],\"properties\":[{\"default\":0,\"kind\":null,\"name\":\"open_modal\"},{\"default\":0,\"kind\":null,\"name\":\"close_modal\"}]},{\"extends\":null,\"module\":null,\"name\":\"MaterialTemplateActions1\",\"overrides\":[],\"properties\":[{\"default\":0,\"kind\":null,\"name\":\"open_modal\"},{\"default\":0,\"kind\":null,\"name\":\"close_modal\"}]}],\"roots\":{\"references\":[{\"attributes\":{\"coordinates\":null,\"data_source\":{\"id\":\"1037\"},\"glyph\":{\"id\":\"1040\"},\"group\":null,\"hover_glyph\":null,\"muted_glyph\":{\"id\":\"1042\"},\"nonselection_glyph\":{\"id\":\"1041\"},\"selection_glyph\":{\"id\":\"1045\"},\"view\":{\"id\":\"1044\"}},\"id\":\"1043\",\"type\":\"GlyphRenderer\"},{\"attributes\":{\"line_color\":\"#30a2da\",\"line_width\":2,\"x\":{\"field\":\"k\"},\"y\":{\"field\":\"inertia\"}},\"id\":\"1045\",\"type\":\"Line\"},{\"attributes\":{},\"id\":\"1014\",\"type\":\"LinearScale\"},{\"attributes\":{},\"id\":\"1012\",\"type\":\"LinearScale\"},{\"attributes\":{\"coordinates\":null,\"group\":null,\"text\":\"Elbow Curve\",\"text_color\":\"black\",\"text_font_size\":\"12pt\"},\"id\":\"1008\",\"type\":\"Title\"},{\"attributes\":{\"callback\":null,\"renderers\":[{\"id\":\"1043\"}],\"tags\":[\"hv_created\"],\"tooltips\":[[\"k\",\"@{k}\"],[\"inertia\",\"@{inertia}\"]]},\"id\":\"1006\",\"type\":\"HoverTool\"},{\"attributes\":{\"axis\":{\"id\":\"1020\"},\"coordinates\":null,\"dimension\":1,\"grid_line_color\":null,\"group\":null,\"ticker\":null},\"id\":\"1023\",\"type\":\"Grid\"},{\"attributes\":{\"line_alpha\":0.1,\"line_color\":\"#30a2da\",\"line_width\":2,\"x\":{\"field\":\"k\"},\"y\":{\"field\":\"inertia\"}},\"id\":\"1041\",\"type\":\"Line\"},{\"attributes\":{},\"id\":\"1021\",\"type\":\"BasicTicker\"},{\"attributes\":{\"axis_label\":\"k\",\"coordinates\":null,\"formatter\":{\"id\":\"1048\"},\"group\":null,\"major_label_policy\":{\"id\":\"1049\"},\"ticker\":{\"id\":\"1046\"}},\"id\":\"1016\",\"type\":\"LinearAxis\"},{\"attributes\":{},\"id\":\"1053\",\"type\":\"BasicTickFormatter\"},{\"attributes\":{\"axis_label\":\"inertia\",\"coordinates\":null,\"formatter\":{\"id\":\"1053\"},\"group\":null,\"major_label_policy\":{\"id\":\"1054\"},\"ticker\":{\"id\":\"1021\"}},\"id\":\"1020\",\"type\":\"LinearAxis\"},{\"attributes\":{\"data\":{\"inertia\":{\"__ndarray__\":\"rdCifrWbZEHsFw1eu7FJQZOtN+yCVjlB7x82KFAIM0F2dQZZxY8sQaoAArYBXyhByKc0+DjyJUFVRP14Ei4kQYKtfPHyzyJBTFHHq6CbIUE=\",\"dtype\":\"float64\",\"order\":\"little\",\"shape\":[10]},\"k\":[1,2,3,4,5,6,7,8,9,10]},\"selected\":{\"id\":\"1038\"},\"selection_policy\":{\"id\":\"1061\"}},\"id\":\"1037\",\"type\":\"ColumnDataSource\"},{\"attributes\":{\"margin\":[5,5,5,5],\"name\":\"HSpacer01632\",\"sizing_mode\":\"stretch_width\"},\"id\":\"1073\",\"type\":\"Spacer\"},{\"attributes\":{\"line_alpha\":0.2,\"line_color\":\"#30a2da\",\"line_width\":2,\"x\":{\"field\":\"k\"},\"y\":{\"field\":\"inertia\"}},\"id\":\"1042\",\"type\":\"Line\"},{\"attributes\":{},\"id\":\"1061\",\"type\":\"UnionRenderers\"},{\"attributes\":{},\"id\":\"1038\",\"type\":\"Selection\"},{\"attributes\":{},\"id\":\"1049\",\"type\":\"AllLabels\"},{\"attributes\":{},\"id\":\"1054\",\"type\":\"AllLabels\"},{\"attributes\":{\"below\":[{\"id\":\"1016\"}],\"center\":[{\"id\":\"1019\"},{\"id\":\"1023\"}],\"height\":300,\"left\":[{\"id\":\"1020\"}],\"margin\":[5,5,5,5],\"min_border_bottom\":10,\"min_border_left\":10,\"min_border_right\":10,\"min_border_top\":10,\"renderers\":[{\"id\":\"1043\"}],\"sizing_mode\":\"fixed\",\"title\":{\"id\":\"1008\"},\"toolbar\":{\"id\":\"1030\"},\"width\":700,\"x_range\":{\"id\":\"1004\"},\"x_scale\":{\"id\":\"1012\"},\"y_range\":{\"id\":\"1005\"},\"y_scale\":{\"id\":\"1014\"}},\"id\":\"1007\",\"subtype\":\"Figure\",\"type\":\"Plot\"},{\"attributes\":{\"source\":{\"id\":\"1037\"}},\"id\":\"1044\",\"type\":\"CDSView\"},{\"attributes\":{\"end\":11827419.51956188,\"reset_end\":11827419.51956188,\"reset_start\":-445791.22668193746,\"start\":-445791.22668193746,\"tags\":[[[\"inertia\",\"inertia\",null]]]},\"id\":\"1005\",\"type\":\"Range1d\"},{\"attributes\":{\"tools\":[{\"id\":\"1006\"},{\"id\":\"1024\"},{\"id\":\"1025\"},{\"id\":\"1026\"},{\"id\":\"1027\"},{\"id\":\"1028\"}]},\"id\":\"1030\",\"type\":\"Toolbar\"},{\"attributes\":{},\"id\":\"1024\",\"type\":\"SaveTool\"},{\"attributes\":{\"axis\":{\"id\":\"1016\"},\"coordinates\":null,\"grid_line_color\":null,\"group\":null,\"ticker\":null},\"id\":\"1019\",\"type\":\"Grid\"},{\"attributes\":{\"margin\":[5,5,5,5],\"name\":\"HSpacer01631\",\"sizing_mode\":\"stretch_width\"},\"id\":\"1003\",\"type\":\"Spacer\"},{\"attributes\":{},\"id\":\"1025\",\"type\":\"PanTool\"},{\"attributes\":{\"line_color\":\"#30a2da\",\"line_width\":2,\"x\":{\"field\":\"k\"},\"y\":{\"field\":\"inertia\"}},\"id\":\"1040\",\"type\":\"Line\"},{\"attributes\":{},\"id\":\"1026\",\"type\":\"WheelZoomTool\"},{\"attributes\":{\"ticks\":[1,2,3,4,5,6,7,8,9,10]},\"id\":\"1046\",\"type\":\"FixedTicker\"},{\"attributes\":{\"overlay\":{\"id\":\"1029\"}},\"id\":\"1027\",\"type\":\"BoxZoomTool\"},{\"attributes\":{\"bottom_units\":\"screen\",\"coordinates\":null,\"fill_alpha\":0.5,\"fill_color\":\"lightgrey\",\"group\":null,\"left_units\":\"screen\",\"level\":\"overlay\",\"line_alpha\":1.0,\"line_color\":\"black\",\"line_dash\":[4,4],\"line_width\":2,\"right_units\":\"screen\",\"syncable\":false,\"top_units\":\"screen\"},\"id\":\"1029\",\"type\":\"BoxAnnotation\"},{\"attributes\":{\"children\":[{\"id\":\"1003\"},{\"id\":\"1007\"},{\"id\":\"1073\"}],\"margin\":[0,0,0,0],\"name\":\"Row01627\",\"tags\":[\"embedded\"]},\"id\":\"1002\",\"type\":\"Row\"},{\"attributes\":{},\"id\":\"1028\",\"type\":\"ResetTool\"},{\"attributes\":{},\"id\":\"1048\",\"type\":\"BasicTickFormatter\"},{\"attributes\":{\"end\":10.0,\"reset_end\":10.0,\"reset_start\":1.0,\"start\":1.0,\"tags\":[[[\"k\",\"k\",null]]]},\"id\":\"1004\",\"type\":\"Range1d\"}],\"root_ids\":[\"1002\"]},\"title\":\"Bokeh Application\",\"version\":\"2.4.2\"}};\n",
       "    var render_items = [{\"docid\":\"385164c7-a853-44f9-94ce-4821a8574c4b\",\"root_ids\":[\"1002\"],\"roots\":{\"1002\":\"63567447-6729-49c7-bfa6-7b1b140f69e9\"}}];\n",
       "    root.Bokeh.embed.embed_items_notebook(docs_json, render_items);\n",
       "  }\n",
       "  if (root.Bokeh !== undefined && root.Bokeh.Panel !== undefined) {\n",
       "    embed_document(root);\n",
       "  } else {\n",
       "    var attempts = 0;\n",
       "    var timer = setInterval(function(root) {\n",
       "      if (root.Bokeh !== undefined && root.Bokeh.Panel !== undefined) {\n",
       "        clearInterval(timer);\n",
       "        embed_document(root);\n",
       "      } else if (document.readyState == \"complete\") {\n",
       "        attempts++;\n",
       "        if (attempts > 200) {\n",
       "          clearInterval(timer);\n",
       "          console.log(\"Bokeh: ERROR: Unable to run BokehJS code because BokehJS library is missing\");\n",
       "        }\n",
       "      }\n",
       "    }, 25, root)\n",
       "  }\n",
       "})(window);</script>"
      ],
      "text/plain": [
       ":Curve   [k]   (inertia)"
      ]
     },
     "execution_count": 17,
     "metadata": {
      "application/vnd.holoviews_exec.v0+json": {
       "id": "1002"
      }
     },
     "output_type": "execute_result"
    }
   ],
   "source": [
    "# Plot the elbow curve using hvPlot.\n",
    "df_elbow_data.hvplot.line(\n",
    "    x=\"k\", \n",
    "    y= \"inertia\", \n",
    "    title=\"Elbow Curve\", \n",
    "    xticks=k\n",
    ")"
   ]
  },
  {
   "cell_type": "markdown",
   "metadata": {},
   "source": [
    "## Step 6: Answer the following question:"
   ]
  },
  {
   "cell_type": "markdown",
   "metadata": {},
   "source": [
    "**Question** Considering the plot, what’s the best number of clusters to choose, or value of k?\n",
    "\n",
    "**Answer** # 3"
   ]
  },
  {
   "cell_type": "code",
   "execution_count": null,
   "metadata": {},
   "outputs": [],
   "source": []
  }
 ],
 "metadata": {
  "kernelspec": {
   "display_name": "Python (dev)",
   "language": "python",
   "name": "dev"
  },
  "language_info": {
   "codemirror_mode": {
    "name": "ipython",
    "version": 3
   },
   "file_extension": ".py",
   "mimetype": "text/x-python",
   "name": "python",
   "nbconvert_exporter": "python",
   "pygments_lexer": "ipython3",
   "version": "3.7.10"
  }
 },
 "nbformat": 4,
 "nbformat_minor": 4
}
