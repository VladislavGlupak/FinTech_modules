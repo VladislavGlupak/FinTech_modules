{
 "cells": [
  {
   "cell_type": "code",
   "execution_count": 1,
   "id": "cdae006d-fae4-46eb-844f-375c7dc8a59e",
   "metadata": {},
   "outputs": [],
   "source": [
    "# Import the Pandas library\n",
    "# YOUR CODE HERE\n",
    "import pandas as pd\n",
    "\n",
    "# Import the Path module from the pathlib library\n",
    "# YOUR CODE HERE\n",
    "from pathlib import Path"
   ]
  },
  {
   "cell_type": "code",
   "execution_count": 2,
   "id": "b6353e07-352a-46ae-a84d-f403226c4424",
   "metadata": {},
   "outputs": [],
   "source": [
    "csvpath = Path(\"sales.csv\")"
   ]
  },
  {
   "cell_type": "code",
   "execution_count": 3,
   "id": "e35db5d3-08a1-4737-8eaf-b8fd92e4badf",
   "metadata": {},
   "outputs": [],
   "source": [
    "sales_df = pd.read_csv(csvpath)\n",
    "#sales_df = pd.read_csv(csvpath, index_col=\"Date\", parse_dates=True, infer_datetime_format=True)"
   ]
  },
  {
   "cell_type": "code",
   "execution_count": 4,
   "id": "f60c9a75-b075-41fd-927a-ca369ade97e9",
   "metadata": {},
   "outputs": [
    {
     "data": {
      "text/html": [
       "<div>\n",
       "<style scoped>\n",
       "    .dataframe tbody tr th:only-of-type {\n",
       "        vertical-align: middle;\n",
       "    }\n",
       "\n",
       "    .dataframe tbody tr th {\n",
       "        vertical-align: top;\n",
       "    }\n",
       "\n",
       "    .dataframe thead th {\n",
       "        text-align: right;\n",
       "    }\n",
       "</style>\n",
       "<table border=\"1\" class=\"dataframe\">\n",
       "  <thead>\n",
       "    <tr style=\"text-align: right;\">\n",
       "      <th></th>\n",
       "      <th>Date</th>\n",
       "      <th>Net Sales (mill)</th>\n",
       "      <th>Net Income (mill)</th>\n",
       "      <th>EPS</th>\n",
       "    </tr>\n",
       "  </thead>\n",
       "  <tbody>\n",
       "    <tr>\n",
       "      <th>0</th>\n",
       "      <td>9/30/2017</td>\n",
       "      <td>229,234</td>\n",
       "      <td>48,351</td>\n",
       "      <td>$9.27</td>\n",
       "    </tr>\n",
       "    <tr>\n",
       "      <th>1</th>\n",
       "      <td>9/29/2018</td>\n",
       "      <td>265,595</td>\n",
       "      <td>59,531</td>\n",
       "      <td>$12.01</td>\n",
       "    </tr>\n",
       "    <tr>\n",
       "      <th>2</th>\n",
       "      <td>9/28/2019</td>\n",
       "      <td>260,174</td>\n",
       "      <td>55,256</td>\n",
       "      <td>$11.97</td>\n",
       "    </tr>\n",
       "  </tbody>\n",
       "</table>\n",
       "</div>"
      ],
      "text/plain": [
       "        Date Net Sales (mill) Net Income (mill)     EPS\n",
       "0  9/30/2017          229,234            48,351   $9.27\n",
       "1  9/29/2018          265,595            59,531  $12.01\n",
       "2  9/28/2019          260,174            55,256  $11.97"
      ]
     },
     "execution_count": 4,
     "metadata": {},
     "output_type": "execute_result"
    }
   ],
   "source": [
    "sales_df.set_index(\"Date\")\n",
    "sales_df.head()"
   ]
  },
  {
   "cell_type": "code",
   "execution_count": null,
   "id": "9e7b24bd-8d15-428d-a5e3-0072855929eb",
   "metadata": {},
   "outputs": [],
   "source": []
  }
 ],
 "metadata": {
  "kernelspec": {
   "display_name": "Python (dev)",
   "language": "python",
   "name": "dev"
  },
  "language_info": {
   "codemirror_mode": {
    "name": "ipython",
    "version": 3
   },
   "file_extension": ".py",
   "mimetype": "text/x-python",
   "name": "python",
   "nbconvert_exporter": "python",
   "pygments_lexer": "ipython3",
   "version": "3.7.10"
  }
 },
 "nbformat": 4,
 "nbformat_minor": 5
}
