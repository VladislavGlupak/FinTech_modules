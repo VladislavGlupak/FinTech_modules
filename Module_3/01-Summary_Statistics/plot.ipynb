{
 "cells": [
  {
   "cell_type": "code",
   "execution_count": 5,
   "id": "a99e9624-1a28-478c-894f-2bb9939540a8",
   "metadata": {},
   "outputs": [
    {
     "data": {
      "text/html": [
       "<div>\n",
       "<style scoped>\n",
       "    .dataframe tbody tr th:only-of-type {\n",
       "        vertical-align: middle;\n",
       "    }\n",
       "\n",
       "    .dataframe tbody tr th {\n",
       "        vertical-align: top;\n",
       "    }\n",
       "\n",
       "    .dataframe thead th {\n",
       "        text-align: right;\n",
       "    }\n",
       "</style>\n",
       "<table border=\"1\" class=\"dataframe\">\n",
       "  <thead>\n",
       "    <tr style=\"text-align: right;\">\n",
       "      <th></th>\n",
       "      <th>prices</th>\n",
       "    </tr>\n",
       "  </thead>\n",
       "  <tbody>\n",
       "    <tr>\n",
       "      <th>0</th>\n",
       "      <td>1</td>\n",
       "    </tr>\n",
       "    <tr>\n",
       "      <th>1</th>\n",
       "      <td>2</td>\n",
       "    </tr>\n",
       "    <tr>\n",
       "      <th>2</th>\n",
       "      <td>3</td>\n",
       "    </tr>\n",
       "    <tr>\n",
       "      <th>3</th>\n",
       "      <td>3</td>\n",
       "    </tr>\n",
       "    <tr>\n",
       "      <th>4</th>\n",
       "      <td>5</td>\n",
       "    </tr>\n",
       "    <tr>\n",
       "      <th>5</th>\n",
       "      <td>1</td>\n",
       "    </tr>\n",
       "  </tbody>\n",
       "</table>\n",
       "</div>"
      ],
      "text/plain": [
       "   prices\n",
       "0       1\n",
       "1       2\n",
       "2       3\n",
       "3       3\n",
       "4       5\n",
       "5       1"
      ]
     },
     "execution_count": 5,
     "metadata": {},
     "output_type": "execute_result"
    }
   ],
   "source": [
    "%matplotlib inline\n",
    "import pandas as pd\n",
    "sales_data = pd.DataFrame({\"prices\": [1, 2, 3, 3, 5, 1]})\n",
    "sales_data"
   ]
  },
  {
   "cell_type": "code",
   "execution_count": 6,
   "id": "16fa806a-623f-4578-8e45-8209104417cf",
   "metadata": {},
   "outputs": [
    {
     "data": {
      "text/plain": [
       "<AxesSubplot:>"
      ]
     },
     "execution_count": 6,
     "metadata": {},
     "output_type": "execute_result"
    },
    {
     "data": {
      "image/png": "[encoded data removed]",
      "text/plain": [
       "<Figure size 432x288 with 1 Axes>"
      ]
     },
     "metadata": {
      "needs_background": "light"
     },
     "output_type": "display_data"
    }
   ],
   "source": [
    "sales_data.plot()"
   ]
  },
  {
   "cell_type": "code",
   "execution_count": 8,
   "id": "8bdafba9-3612-45ea-86cf-4f8981cc9734",
   "metadata": {},
   "outputs": [
    {
     "data": {
      "text/html": [
       "<div>\n",
       "<style scoped>\n",
       "    .dataframe tbody tr th:only-of-type {\n",
       "        vertical-align: middle;\n",
       "    }\n",
       "\n",
       "    .dataframe tbody tr th {\n",
       "        vertical-align: top;\n",
       "    }\n",
       "\n",
       "    .dataframe thead th {\n",
       "        text-align: right;\n",
       "    }\n",
       "</style>\n",
       "<table border=\"1\" class=\"dataframe\">\n",
       "  <thead>\n",
       "    <tr style=\"text-align: right;\">\n",
       "      <th></th>\n",
       "      <th>AAPL</th>\n",
       "      <th>GOOG</th>\n",
       "    </tr>\n",
       "  </thead>\n",
       "  <tbody>\n",
       "    <tr>\n",
       "      <th>2020-01-01</th>\n",
       "      <td>-1.753368</td>\n",
       "      <td>-0.419242</td>\n",
       "    </tr>\n",
       "    <tr>\n",
       "      <th>2020-01-02</th>\n",
       "      <td>0.813251</td>\n",
       "      <td>1.456332</td>\n",
       "    </tr>\n",
       "    <tr>\n",
       "      <th>2020-01-03</th>\n",
       "      <td>-0.080074</td>\n",
       "      <td>0.568558</td>\n",
       "    </tr>\n",
       "    <tr>\n",
       "      <th>2020-01-04</th>\n",
       "      <td>-0.582794</td>\n",
       "      <td>-0.056467</td>\n",
       "    </tr>\n",
       "    <tr>\n",
       "      <th>2020-01-05</th>\n",
       "      <td>2.301408</td>\n",
       "      <td>1.120432</td>\n",
       "    </tr>\n",
       "    <tr>\n",
       "      <th>2020-01-06</th>\n",
       "      <td>0.313654</td>\n",
       "      <td>-0.111491</td>\n",
       "    </tr>\n",
       "    <tr>\n",
       "      <th>2020-01-07</th>\n",
       "      <td>-0.975185</td>\n",
       "      <td>-1.514040</td>\n",
       "    </tr>\n",
       "    <tr>\n",
       "      <th>2020-01-08</th>\n",
       "      <td>2.225659</td>\n",
       "      <td>-0.591324</td>\n",
       "    </tr>\n",
       "    <tr>\n",
       "      <th>2020-01-09</th>\n",
       "      <td>-0.068853</td>\n",
       "      <td>-0.016819</td>\n",
       "    </tr>\n",
       "    <tr>\n",
       "      <th>2020-01-10</th>\n",
       "      <td>0.128812</td>\n",
       "      <td>0.895526</td>\n",
       "    </tr>\n",
       "  </tbody>\n",
       "</table>\n",
       "</div>"
      ],
      "text/plain": [
       "                AAPL      GOOG\n",
       "2020-01-01 -1.753368 -0.419242\n",
       "2020-01-02  0.813251  1.456332\n",
       "2020-01-03 -0.080074  0.568558\n",
       "2020-01-04 -0.582794 -0.056467\n",
       "2020-01-05  2.301408  1.120432\n",
       "2020-01-06  0.313654 -0.111491\n",
       "2020-01-07 -0.975185 -1.514040\n",
       "2020-01-08  2.225659 -0.591324\n",
       "2020-01-09 -0.068853 -0.016819\n",
       "2020-01-10  0.128812  0.895526"
      ]
     },
     "execution_count": 8,
     "metadata": {},
     "output_type": "execute_result"
    }
   ],
   "source": [
    "import pandas as pd\n",
    "import numpy as np\n",
    "daily_returns = pd.DataFrame(\n",
    "    np.random.randn(10, 2),\n",
    "    index=pd.date_range('1/1/2020', periods=10),\n",
    "    columns=[\"AAPL\", \"GOOG\"])\n",
    "daily_returns"
   ]
  },
  {
   "cell_type": "code",
   "execution_count": 10,
   "id": "6ddea412-f644-45f4-8923-18f686f2ab36",
   "metadata": {},
   "outputs": [
    {
     "data": {
      "text/html": [
       "<div>\n",
       "<style scoped>\n",
       "    .dataframe tbody tr th:only-of-type {\n",
       "        vertical-align: middle;\n",
       "    }\n",
       "\n",
       "    .dataframe tbody tr th {\n",
       "        vertical-align: top;\n",
       "    }\n",
       "\n",
       "    .dataframe thead th {\n",
       "        text-align: right;\n",
       "    }\n",
       "</style>\n",
       "<table border=\"1\" class=\"dataframe\">\n",
       "  <thead>\n",
       "    <tr style=\"text-align: right;\">\n",
       "      <th></th>\n",
       "      <th>AAPL</th>\n",
       "      <th>GOOG</th>\n",
       "    </tr>\n",
       "  </thead>\n",
       "  <tbody>\n",
       "    <tr>\n",
       "      <th>count</th>\n",
       "      <td>10.000000</td>\n",
       "      <td>10.000000</td>\n",
       "    </tr>\n",
       "    <tr>\n",
       "      <th>mean</th>\n",
       "      <td>0.232251</td>\n",
       "      <td>0.133146</td>\n",
       "    </tr>\n",
       "    <tr>\n",
       "      <th>std</th>\n",
       "      <td>1.285088</td>\n",
       "      <td>0.891806</td>\n",
       "    </tr>\n",
       "    <tr>\n",
       "      <th>min</th>\n",
       "      <td>-1.753368</td>\n",
       "      <td>-1.514040</td>\n",
       "    </tr>\n",
       "    <tr>\n",
       "      <th>25%</th>\n",
       "      <td>-0.457114</td>\n",
       "      <td>-0.342304</td>\n",
       "    </tr>\n",
       "    <tr>\n",
       "      <th>50%</th>\n",
       "      <td>0.029979</td>\n",
       "      <td>-0.036643</td>\n",
       "    </tr>\n",
       "    <tr>\n",
       "      <th>75%</th>\n",
       "      <td>0.688352</td>\n",
       "      <td>0.813784</td>\n",
       "    </tr>\n",
       "    <tr>\n",
       "      <th>max</th>\n",
       "      <td>2.301408</td>\n",
       "      <td>1.456332</td>\n",
       "    </tr>\n",
       "  </tbody>\n",
       "</table>\n",
       "</div>"
      ],
      "text/plain": [
       "            AAPL       GOOG\n",
       "count  10.000000  10.000000\n",
       "mean    0.232251   0.133146\n",
       "std     1.285088   0.891806\n",
       "min    -1.753368  -1.514040\n",
       "25%    -0.457114  -0.342304\n",
       "50%     0.029979  -0.036643\n",
       "75%     0.688352   0.813784\n",
       "max     2.301408   1.456332"
      ]
     },
     "execution_count": 10,
     "metadata": {},
     "output_type": "execute_result"
    }
   ],
   "source": [
    "daily_returns.describe()"
   ]
  },
  {
   "cell_type": "code",
   "execution_count": 14,
   "id": "c045416a-bf5e-48d6-85a8-0bd06f98dfa2",
   "metadata": {},
   "outputs": [
    {
     "data": {
      "text/plain": [
       "<AxesSubplot:ylabel='Frequency'>"
      ]
     },
     "execution_count": 14,
     "metadata": {},
     "output_type": "execute_result"
    },
    {
     "data": {
      "image/png": "[encoded data removed]",
      "text/plain": [
       "<Figure size 432x288 with 1 Axes>"
      ]
     },
     "metadata": {
      "needs_background": "light"
     },
     "output_type": "display_data"
    }
   ],
   "source": [
    "daily_returns.plot(kind=\"hist\")"
   ]
  },
  {
   "cell_type": "markdown",
   "id": "788cac07-8808-4823-8d20-b4a8783e2c35",
   "metadata": {},
   "source": [
    "With the kind parameter, you can specify the type of plot that you want. The following list has the values you use for some of the most common types of plots:\n",
    "\n",
    "line: This is the default Pandas plot. It’s great for data that involves dates and times (that is, time series data).\n",
    "bar: This plot is best when the dataset contains labeled categories of data, like age group or income range.\n",
    "box: This plot is best for visualizing the distribution of values within each column.\n",
    "hist: Short for histogram, this visualization displays the distribution of data by illustrating how often each value (or group of values) in a set of data occurs. (That is, it illustrates the frequency of each value or group of values.)\n",
    "scatter: This plot is best when you have numeric columns for x and y values."
   ]
  },
  {
   "cell_type": "code",
   "execution_count": null,
   "id": "9f13c11b-059f-4a49-ae78-8d1588eff471",
   "metadata": {},
   "outputs": [],
   "source": []
  }
 ],
 "metadata": {
  "kernelspec": {
   "display_name": "Python (dev)",
   "language": "python",
   "name": "dev"
  },
  "language_info": {
   "codemirror_mode": {
    "name": "ipython",
    "version": 3
   },
   "file_extension": ".py",
   "mimetype": "text/x-python",
   "name": "python",
   "nbconvert_exporter": "python",
   "pygments_lexer": "ipython3",
   "version": "3.7.10"
  }
 },
 "nbformat": 4,
 "nbformat_minor": 5
}
